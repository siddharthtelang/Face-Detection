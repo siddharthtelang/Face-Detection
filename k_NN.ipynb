{
  "nbformat": 4,
  "nbformat_minor": 0,
  "metadata": {
    "interpreter": {
      "hash": "cdfa986811ede5aec55e936b833b50dd727f4374221054198d85d31e15300e88"
    },
    "kernelspec": {
      "display_name": "Python 3.9.6 64-bit",
      "name": "python3"
    },
    "language_info": {
      "codemirror_mode": {
        "name": "ipython",
        "version": 3
      },
      "file_extension": ".py",
      "mimetype": "text/x-python",
      "name": "python",
      "nbconvert_exporter": "python",
      "pygments_lexer": "ipython3",
      "version": "3.9.6"
    },
    "orig_nbformat": 4,
    "colab": {
      "name": "k-NN.ipynb",
      "provenance": [],
      "include_colab_link": true
    }
  },
  "cells": [
    {
      "cell_type": "markdown",
      "metadata": {
        "id": "view-in-github",
        "colab_type": "text"
      },
      "source": [
        "<a href=\"https://colab.research.google.com/github/siddharthtelang/Face-Detection/blob/main/k_NN.ipynb\" target=\"_parent\"><img src=\"https://colab.research.google.com/assets/colab-badge.svg\" alt=\"Open In Colab\"/></a>"
      ]
    },
    {
      "cell_type": "code",
      "metadata": {
        "id": "WbjOgGc9jhzQ"
      },
      "source": [
        "import scipy.io as sio\n",
        "import numpy as np\n",
        "import matplotlib.pyplot as plt\n",
        "import math\n",
        "from sklearn.decomposition import PCA\n",
        "import random"
      ],
      "execution_count": 2,
      "outputs": []
    },
    {
      "cell_type": "code",
      "metadata": {
        "colab": {
          "resources": {
            "http://localhost:8080/nbextensions/google.colab/files.js": {
              "data": "Ly8gQ29weXJpZ2h0IDIwMTcgR29vZ2xlIExMQwovLwovLyBMaWNlbnNlZCB1bmRlciB0aGUgQXBhY2hlIExpY2Vuc2UsIFZlcnNpb24gMi4wICh0aGUgIkxpY2Vuc2UiKTsKLy8geW91IG1heSBub3QgdXNlIHRoaXMgZmlsZSBleGNlcHQgaW4gY29tcGxpYW5jZSB3aXRoIHRoZSBMaWNlbnNlLgovLyBZb3UgbWF5IG9idGFpbiBhIGNvcHkgb2YgdGhlIExpY2Vuc2UgYXQKLy8KLy8gICAgICBodHRwOi8vd3d3LmFwYWNoZS5vcmcvbGljZW5zZXMvTElDRU5TRS0yLjAKLy8KLy8gVW5sZXNzIHJlcXVpcmVkIGJ5IGFwcGxpY2FibGUgbGF3IG9yIGFncmVlZCB0byBpbiB3cml0aW5nLCBzb2Z0d2FyZQovLyBkaXN0cmlidXRlZCB1bmRlciB0aGUgTGljZW5zZSBpcyBkaXN0cmlidXRlZCBvbiBhbiAiQVMgSVMiIEJBU0lTLAovLyBXSVRIT1VUIFdBUlJBTlRJRVMgT1IgQ09ORElUSU9OUyBPRiBBTlkgS0lORCwgZWl0aGVyIGV4cHJlc3Mgb3IgaW1wbGllZC4KLy8gU2VlIHRoZSBMaWNlbnNlIGZvciB0aGUgc3BlY2lmaWMgbGFuZ3VhZ2UgZ292ZXJuaW5nIHBlcm1pc3Npb25zIGFuZAovLyBsaW1pdGF0aW9ucyB1bmRlciB0aGUgTGljZW5zZS4KCi8qKgogKiBAZmlsZW92ZXJ2aWV3IEhlbHBlcnMgZm9yIGdvb2dsZS5jb2xhYiBQeXRob24gbW9kdWxlLgogKi8KKGZ1bmN0aW9uKHNjb3BlKSB7CmZ1bmN0aW9uIHNwYW4odGV4dCwgc3R5bGVBdHRyaWJ1dGVzID0ge30pIHsKICBjb25zdCBlbGVtZW50ID0gZG9jdW1lbnQuY3JlYXRlRWxlbWVudCgnc3BhbicpOwogIGVsZW1lbnQudGV4dENvbnRlbnQgPSB0ZXh0OwogIGZvciAoY29uc3Qga2V5IG9mIE9iamVjdC5rZXlzKHN0eWxlQXR0cmlidXRlcykpIHsKICAgIGVsZW1lbnQuc3R5bGVba2V5XSA9IHN0eWxlQXR0cmlidXRlc1trZXldOwogIH0KICByZXR1cm4gZWxlbWVudDsKfQoKLy8gTWF4IG51bWJlciBvZiBieXRlcyB3aGljaCB3aWxsIGJlIHVwbG9hZGVkIGF0IGEgdGltZS4KY29uc3QgTUFYX1BBWUxPQURfU0laRSA9IDEwMCAqIDEwMjQ7CgpmdW5jdGlvbiBfdXBsb2FkRmlsZXMoaW5wdXRJZCwgb3V0cHV0SWQpIHsKICBjb25zdCBzdGVwcyA9IHVwbG9hZEZpbGVzU3RlcChpbnB1dElkLCBvdXRwdXRJZCk7CiAgY29uc3Qgb3V0cHV0RWxlbWVudCA9IGRvY3VtZW50LmdldEVsZW1lbnRCeUlkKG91dHB1dElkKTsKICAvLyBDYWNoZSBzdGVwcyBvbiB0aGUgb3V0cHV0RWxlbWVudCB0byBtYWtlIGl0IGF2YWlsYWJsZSBmb3IgdGhlIG5leHQgY2FsbAogIC8vIHRvIHVwbG9hZEZpbGVzQ29udGludWUgZnJvbSBQeXRob24uCiAgb3V0cHV0RWxlbWVudC5zdGVwcyA9IHN0ZXBzOwoKICByZXR1cm4gX3VwbG9hZEZpbGVzQ29udGludWUob3V0cHV0SWQpOwp9CgovLyBUaGlzIGlzIHJvdWdobHkgYW4gYXN5bmMgZ2VuZXJhdG9yIChub3Qgc3VwcG9ydGVkIGluIHRoZSBicm93c2VyIHlldCksCi8vIHdoZXJlIHRoZXJlIGFyZSBtdWx0aXBsZSBhc3luY2hyb25vdXMgc3RlcHMgYW5kIHRoZSBQeXRob24gc2lkZSBpcyBnb2luZwovLyB0byBwb2xsIGZvciBjb21wbGV0aW9uIG9mIGVhY2ggc3RlcC4KLy8gVGhpcyB1c2VzIGEgUHJvbWlzZSB0byBibG9jayB0aGUgcHl0aG9uIHNpZGUgb24gY29tcGxldGlvbiBvZiBlYWNoIHN0ZXAsCi8vIHRoZW4gcGFzc2VzIHRoZSByZXN1bHQgb2YgdGhlIHByZXZpb3VzIHN0ZXAgYXMgdGhlIGlucHV0IHRvIHRoZSBuZXh0IHN0ZXAuCmZ1bmN0aW9uIF91cGxvYWRGaWxlc0NvbnRpbnVlKG91dHB1dElkKSB7CiAgY29uc3Qgb3V0cHV0RWxlbWVudCA9IGRvY3VtZW50LmdldEVsZW1lbnRCeUlkKG91dHB1dElkKTsKICBjb25zdCBzdGVwcyA9IG91dHB1dEVsZW1lbnQuc3RlcHM7CgogIGNvbnN0IG5leHQgPSBzdGVwcy5uZXh0KG91dHB1dEVsZW1lbnQubGFzdFByb21pc2VWYWx1ZSk7CiAgcmV0dXJuIFByb21pc2UucmVzb2x2ZShuZXh0LnZhbHVlLnByb21pc2UpLnRoZW4oKHZhbHVlKSA9PiB7CiAgICAvLyBDYWNoZSB0aGUgbGFzdCBwcm9taXNlIHZhbHVlIHRvIG1ha2UgaXQgYXZhaWxhYmxlIHRvIHRoZSBuZXh0CiAgICAvLyBzdGVwIG9mIHRoZSBnZW5lcmF0b3IuCiAgICBvdXRwdXRFbGVtZW50Lmxhc3RQcm9taXNlVmFsdWUgPSB2YWx1ZTsKICAgIHJldHVybiBuZXh0LnZhbHVlLnJlc3BvbnNlOwogIH0pOwp9CgovKioKICogR2VuZXJhdG9yIGZ1bmN0aW9uIHdoaWNoIGlzIGNhbGxlZCBiZXR3ZWVuIGVhY2ggYXN5bmMgc3RlcCBvZiB0aGUgdXBsb2FkCiAqIHByb2Nlc3MuCiAqIEBwYXJhbSB7c3RyaW5nfSBpbnB1dElkIEVsZW1lbnQgSUQgb2YgdGhlIGlucHV0IGZpbGUgcGlja2VyIGVsZW1lbnQuCiAqIEBwYXJhbSB7c3RyaW5nfSBvdXRwdXRJZCBFbGVtZW50IElEIG9mIHRoZSBvdXRwdXQgZGlzcGxheS4KICogQHJldHVybiB7IUl0ZXJhYmxlPCFPYmplY3Q+fSBJdGVyYWJsZSBvZiBuZXh0IHN0ZXBzLgogKi8KZnVuY3Rpb24qIHVwbG9hZEZpbGVzU3RlcChpbnB1dElkLCBvdXRwdXRJZCkgewogIGNvbnN0IGlucHV0RWxlbWVudCA9IGRvY3VtZW50LmdldEVsZW1lbnRCeUlkKGlucHV0SWQpOwogIGlucHV0RWxlbWVudC5kaXNhYmxlZCA9IGZhbHNlOwoKICBjb25zdCBvdXRwdXRFbGVtZW50ID0gZG9jdW1lbnQuZ2V0RWxlbWVudEJ5SWQob3V0cHV0SWQpOwogIG91dHB1dEVsZW1lbnQuaW5uZXJIVE1MID0gJyc7CgogIGNvbnN0IHBpY2tlZFByb21pc2UgPSBuZXcgUHJvbWlzZSgocmVzb2x2ZSkgPT4gewogICAgaW5wdXRFbGVtZW50LmFkZEV2ZW50TGlzdGVuZXIoJ2NoYW5nZScsIChlKSA9PiB7CiAgICAgIHJlc29sdmUoZS50YXJnZXQuZmlsZXMpOwogICAgfSk7CiAgfSk7CgogIGNvbnN0IGNhbmNlbCA9IGRvY3VtZW50LmNyZWF0ZUVsZW1lbnQoJ2J1dHRvbicpOwogIGlucHV0RWxlbWVudC5wYXJlbnRFbGVtZW50LmFwcGVuZENoaWxkKGNhbmNlbCk7CiAgY2FuY2VsLnRleHRDb250ZW50ID0gJ0NhbmNlbCB1cGxvYWQnOwogIGNvbnN0IGNhbmNlbFByb21pc2UgPSBuZXcgUHJvbWlzZSgocmVzb2x2ZSkgPT4gewogICAgY2FuY2VsLm9uY2xpY2sgPSAoKSA9PiB7CiAgICAgIHJlc29sdmUobnVsbCk7CiAgICB9OwogIH0pOwoKICAvLyBXYWl0IGZvciB0aGUgdXNlciB0byBwaWNrIHRoZSBmaWxlcy4KICBjb25zdCBmaWxlcyA9IHlpZWxkIHsKICAgIHByb21pc2U6IFByb21pc2UucmFjZShbcGlja2VkUHJvbWlzZSwgY2FuY2VsUHJvbWlzZV0pLAogICAgcmVzcG9uc2U6IHsKICAgICAgYWN0aW9uOiAnc3RhcnRpbmcnLAogICAgfQogIH07CgogIGNhbmNlbC5yZW1vdmUoKTsKCiAgLy8gRGlzYWJsZSB0aGUgaW5wdXQgZWxlbWVudCBzaW5jZSBmdXJ0aGVyIHBpY2tzIGFyZSBub3QgYWxsb3dlZC4KICBpbnB1dEVsZW1lbnQuZGlzYWJsZWQgPSB0cnVlOwoKICBpZiAoIWZpbGVzKSB7CiAgICByZXR1cm4gewogICAgICByZXNwb25zZTogewogICAgICAgIGFjdGlvbjogJ2NvbXBsZXRlJywKICAgICAgfQogICAgfTsKICB9CgogIGZvciAoY29uc3QgZmlsZSBvZiBmaWxlcykgewogICAgY29uc3QgbGkgPSBkb2N1bWVudC5jcmVhdGVFbGVtZW50KCdsaScpOwogICAgbGkuYXBwZW5kKHNwYW4oZmlsZS5uYW1lLCB7Zm9udFdlaWdodDogJ2JvbGQnfSkpOwogICAgbGkuYXBwZW5kKHNwYW4oCiAgICAgICAgYCgke2ZpbGUudHlwZSB8fCAnbi9hJ30pIC0gJHtmaWxlLnNpemV9IGJ5dGVzLCBgICsKICAgICAgICBgbGFzdCBtb2RpZmllZDogJHsKICAgICAgICAgICAgZmlsZS5sYXN0TW9kaWZpZWREYXRlID8gZmlsZS5sYXN0TW9kaWZpZWREYXRlLnRvTG9jYWxlRGF0ZVN0cmluZygpIDoKICAgICAgICAgICAgICAgICAgICAgICAgICAgICAgICAgICAgJ24vYSd9IC0gYCkpOwogICAgY29uc3QgcGVyY2VudCA9IHNwYW4oJzAlIGRvbmUnKTsKICAgIGxpLmFwcGVuZENoaWxkKHBlcmNlbnQpOwoKICAgIG91dHB1dEVsZW1lbnQuYXBwZW5kQ2hpbGQobGkpOwoKICAgIGNvbnN0IGZpbGVEYXRhUHJvbWlzZSA9IG5ldyBQcm9taXNlKChyZXNvbHZlKSA9PiB7CiAgICAgIGNvbnN0IHJlYWRlciA9IG5ldyBGaWxlUmVhZGVyKCk7CiAgICAgIHJlYWRlci5vbmxvYWQgPSAoZSkgPT4gewogICAgICAgIHJlc29sdmUoZS50YXJnZXQucmVzdWx0KTsKICAgICAgfTsKICAgICAgcmVhZGVyLnJlYWRBc0FycmF5QnVmZmVyKGZpbGUpOwogICAgfSk7CiAgICAvLyBXYWl0IGZvciB0aGUgZGF0YSB0byBiZSByZWFkeS4KICAgIGxldCBmaWxlRGF0YSA9IHlpZWxkIHsKICAgICAgcHJvbWlzZTogZmlsZURhdGFQcm9taXNlLAogICAgICByZXNwb25zZTogewogICAgICAgIGFjdGlvbjogJ2NvbnRpbnVlJywKICAgICAgfQogICAgfTsKCiAgICAvLyBVc2UgYSBjaHVua2VkIHNlbmRpbmcgdG8gYXZvaWQgbWVzc2FnZSBzaXplIGxpbWl0cy4gU2VlIGIvNjIxMTU2NjAuCiAgICBsZXQgcG9zaXRpb24gPSAwOwogICAgZG8gewogICAgICBjb25zdCBsZW5ndGggPSBNYXRoLm1pbihmaWxlRGF0YS5ieXRlTGVuZ3RoIC0gcG9zaXRpb24sIE1BWF9QQVlMT0FEX1NJWkUpOwogICAgICBjb25zdCBjaHVuayA9IG5ldyBVaW50OEFycmF5KGZpbGVEYXRhLCBwb3NpdGlvbiwgbGVuZ3RoKTsKICAgICAgcG9zaXRpb24gKz0gbGVuZ3RoOwoKICAgICAgY29uc3QgYmFzZTY0ID0gYnRvYShTdHJpbmcuZnJvbUNoYXJDb2RlLmFwcGx5KG51bGwsIGNodW5rKSk7CiAgICAgIHlpZWxkIHsKICAgICAgICByZXNwb25zZTogewogICAgICAgICAgYWN0aW9uOiAnYXBwZW5kJywKICAgICAgICAgIGZpbGU6IGZpbGUubmFtZSwKICAgICAgICAgIGRhdGE6IGJhc2U2NCwKICAgICAgICB9LAogICAgICB9OwoKICAgICAgbGV0IHBlcmNlbnREb25lID0gZmlsZURhdGEuYnl0ZUxlbmd0aCA9PT0gMCA/CiAgICAgICAgICAxMDAgOgogICAgICAgICAgTWF0aC5yb3VuZCgocG9zaXRpb24gLyBmaWxlRGF0YS5ieXRlTGVuZ3RoKSAqIDEwMCk7CiAgICAgIHBlcmNlbnQudGV4dENvbnRlbnQgPSBgJHtwZXJjZW50RG9uZX0lIGRvbmVgOwoKICAgIH0gd2hpbGUgKHBvc2l0aW9uIDwgZmlsZURhdGEuYnl0ZUxlbmd0aCk7CiAgfQoKICAvLyBBbGwgZG9uZS4KICB5aWVsZCB7CiAgICByZXNwb25zZTogewogICAgICBhY3Rpb246ICdjb21wbGV0ZScsCiAgICB9CiAgfTsKfQoKc2NvcGUuZ29vZ2xlID0gc2NvcGUuZ29vZ2xlIHx8IHt9OwpzY29wZS5nb29nbGUuY29sYWIgPSBzY29wZS5nb29nbGUuY29sYWIgfHwge307CnNjb3BlLmdvb2dsZS5jb2xhYi5fZmlsZXMgPSB7CiAgX3VwbG9hZEZpbGVzLAogIF91cGxvYWRGaWxlc0NvbnRpbnVlLAp9Owp9KShzZWxmKTsK",
              "ok": true,
              "headers": [
                [
                  "content-type",
                  "application/javascript"
                ]
              ],
              "status": 200,
              "status_text": ""
            }
          },
          "base_uri": "https://localhost:8080/",
          "height": 72
        },
        "id": "9yvlzUzujoe6",
        "outputId": "426fce1f-5d62-46e1-f8c7-ee5f7c787e80"
      },
      "source": [
        "from google.colab import files\n",
        "uploaded = files.upload()"
      ],
      "execution_count": 6,
      "outputs": [
        {
          "output_type": "display_data",
          "data": {
            "text/html": [
              "\n",
              "     <input type=\"file\" id=\"files-2d021c41-62dc-40c2-954a-c3a6bba0380d\" name=\"files[]\" multiple disabled\n",
              "        style=\"border:none\" />\n",
              "     <output id=\"result-2d021c41-62dc-40c2-954a-c3a6bba0380d\">\n",
              "      Upload widget is only available when the cell has been executed in the\n",
              "      current browser session. Please rerun this cell to enable.\n",
              "      </output>\n",
              "      <script src=\"/nbextensions/google.colab/files.js\"></script> "
            ],
            "text/plain": [
              "<IPython.core.display.HTML object>"
            ]
          },
          "metadata": {}
        },
        {
          "output_type": "stream",
          "name": "stdout",
          "text": [
            "Saving pose.mat to pose.mat\n"
          ]
        }
      ]
    },
    {
      "cell_type": "code",
      "metadata": {
        "id": "7TTV9OEjjhzX"
      },
      "source": [
        "# initialization\n",
        "subjects = 68\n",
        "types = 13\n",
        "usePCA = True\n",
        "useMDA = False\n",
        "dataset_file = 'pose.mat'\n",
        "# dataset_file = 'Data/data.mat'\n",
        "# dataset_file = 'Data/illumination.mat'\n",
        "dataset = ''"
      ],
      "execution_count": 7,
      "outputs": []
    },
    {
      "cell_type": "code",
      "metadata": {
        "id": "NapXZYC6jhzY"
      },
      "source": [
        "# load the dataset\n",
        "data_ = sio.loadmat(dataset_file)"
      ],
      "execution_count": 8,
      "outputs": []
    },
    {
      "cell_type": "code",
      "metadata": {
        "id": "LE5eCQHDjhzZ"
      },
      "source": [
        "if 'pose' in dataset_file:\n",
        "    data = data_.get('pose')\n",
        "    dataset = 'pose'\n",
        "elif 'illumination' in dataset_file:\n",
        "    data = data_.get('illum')\n",
        "    dataset = 'illum'\n",
        "else:\n",
        "    data = data_.get('face')\n",
        "    dataset = 'face'"
      ],
      "execution_count": 9,
      "outputs": []
    },
    {
      "cell_type": "code",
      "metadata": {
        "id": "LAa4g5DKjhza"
      },
      "source": [
        "# flatten the dataset\n",
        "if dataset == 'pose':\n",
        "    flattened = np.zeros(shape=(subjects*types, data.shape[0]*data.shape[1]))\n",
        "elif dataset == 'illum':\n",
        "    flattened = np.zeros(shape=(subjects*types, data.shape[0]))\n",
        "else:\n",
        "    flattened = np.zeros(shape=(subjects*types, data.shape[0]*data.shape[1]))\n",
        "\n",
        "c = 0\n",
        "d = 0\n",
        "for i in range(flattened.shape[0]):\n",
        "    if c == types:\n",
        "        c = 0\n",
        "        d += 1\n",
        "    if dataset == 'pose':\n",
        "        temp = data[:,:,c,d]\n",
        "        flattened[i] = temp.flatten()\n",
        "    elif dataset == 'face':\n",
        "        temp = data[:,:,i]\n",
        "        flattened[i] = temp.flatten()\n",
        "    elif dataset == 'illum':\n",
        "        flattened[i] = data[:,c,d]\n",
        "    c += 1\n"
      ],
      "execution_count": 10,
      "outputs": []
    },
    {
      "cell_type": "code",
      "metadata": {
        "id": "o1N4WWEljhzb"
      },
      "source": [
        "def doPCA(flattened, dim):\n",
        "    pca = PCA(dim)\n",
        "    projected = pca.fit_transform(flattened)\n",
        "    return projected\n"
      ],
      "execution_count": 11,
      "outputs": []
    },
    {
      "cell_type": "code",
      "metadata": {
        "colab": {
          "base_uri": "https://localhost:8080/",
          "height": 296
        },
        "id": "rSLmSbQ8jhzb",
        "outputId": "da08f6af-a296-4a57-f9c1-a5cbf52c7955"
      },
      "source": [
        "# Perform PCA if true\n",
        "if usePCA:\n",
        "    pca = PCA().fit(flattened)\n",
        "    plt.figure()\n",
        "    plt.xlabel('Dimensions')\n",
        "    plt.ylabel('Variance Retention')\n",
        "    plt.plot(pca.explained_variance_ratio_.cumsum(), lw=3)\n",
        "    min_dim = (np.where(pca.explained_variance_ratio_.cumsum() > 0.95))[0][0]\n",
        "    print('Minimum dimensions required for 95% retention ', min_dim)\n",
        "    projected = doPCA(flattened, min_dim)"
      ],
      "execution_count": 12,
      "outputs": [
        {
          "output_type": "stream",
          "name": "stdout",
          "text": [
            "Minimum dimensions required for 95% retention  199\n"
          ]
        },
        {
          "output_type": "display_data",
          "data": {
            "image/png": "[encoded data removed]",
            "text/plain": [
              "<Figure size 432x288 with 1 Axes>"
            ]
          },
          "metadata": {
            "needs_background": "light"
          }
        }
      ]
    },
    {
      "cell_type": "code",
      "metadata": {
        "colab": {
          "base_uri": "https://localhost:8080/"
        },
        "id": "xYuLQrUMjhzd",
        "outputId": "de25196e-b250-413c-89b9-e3ea6da82058"
      },
      "source": [
        "print('Before dimension reduction shape = ', flattened.shape)\n",
        "print('After dimension reduction shape = ', projected.shape)"
      ],
      "execution_count": 13,
      "outputs": [
        {
          "output_type": "stream",
          "name": "stdout",
          "text": [
            "Before dimension reduction shape =  (884, 1920)\n",
            "After dimension reduction shape =  (884, 199)\n"
          ]
        }
      ]
    },
    {
      "cell_type": "code",
      "metadata": {
        "id": "zcbOzQ93jhze"
      },
      "source": [
        "# Split in training and testing data set\n",
        "def genereate_training_testing_data(projected, subjects, types):\n",
        "    training_data = []\n",
        "    testing_data = []\n",
        "    train_per_subject = int(math.ceil(2*types/3))\n",
        "    test_per_subject = types - train_per_subject\n",
        "    print('Training data per subject=', train_per_subject)\n",
        "    print('Testing data per subject=', test_per_subject)\n",
        "\n",
        "    for i in range(subjects):\n",
        "        temp = []\n",
        "        start = i*types\n",
        "        end = (i+1)*types\n",
        "        # print(start, start+train_per_subject)\n",
        "        # print(start+train_per_subject, end)\n",
        "        # print('-----------------')\n",
        "        for j in range(start , start + test_per_subject):\n",
        "            testing_data.append(projected[j])\n",
        "        for j in range(start + test_per_subject , end):\n",
        "            training_data.append(projected[j])\n",
        "        # training_data.append(projected[start : start + train_per_subject])\n",
        "        # testing_data.append(projected[start + train_per_subject : end])\n",
        "    print('Size of training data = ', len(training_data))\n",
        "    print('Size of testing data = ', len(testing_data))\n",
        "    return training_data, testing_data, train_per_subject, test_per_subject\n",
        "\n"
      ],
      "execution_count": 14,
      "outputs": []
    },
    {
      "cell_type": "code",
      "metadata": {
        "colab": {
          "base_uri": "https://localhost:8080/"
        },
        "id": "YvMOjJdwjhzg",
        "outputId": "68280907-005e-48c1-a1bc-081f35bcdaf7"
      },
      "source": [
        "training_data, testing_data, train_per_subject, test_per_subject = genereate_training_testing_data(projected, subjects, types)"
      ],
      "execution_count": 15,
      "outputs": [
        {
          "output_type": "stream",
          "name": "stdout",
          "text": [
            "Training data per subject= 9\n",
            "Testing data per subject= 4\n",
            "Size of training data =  612\n",
            "Size of testing data =  272\n"
          ]
        }
      ]
    },
    {
      "cell_type": "code",
      "metadata": {
        "id": "s5ye8OoMjhzh"
      },
      "source": [
        "# Compute the mean and covariance for each training sample\n",
        "def calculate_covariance_mean(training_data, dataset):\n",
        "    cov = []\n",
        "    mu = []\n",
        "    for i in range(len(training_data)):\n",
        "        sample = training_data[i]\n",
        "        size = sample.shape[0]\n",
        "        sample = sample.reshape(1, size)\n",
        "        cov_ = np.dot((sample - np.mean(sample)).T, (sample - np.mean(sample))) / size\n",
        "        # add noise to make determinant non-zero\n",
        "        if dataset == 'face':\n",
        "            noise = 0.24*np.identity(cov_.shape[0])\n",
        "        elif dataset == 'pose':\n",
        "            noise = 0.03*np.identity(cov_.shape[0])\n",
        "        else:\n",
        "            noise = 0.01*np.identity(cov_.shape[0])\n",
        "        cov_ = cov_ + noise\n",
        "        mu.append(np.mean(sample))\n",
        "        cov.append(cov_)\n",
        "    return cov, mu"
      ],
      "execution_count": 16,
      "outputs": []
    },
    {
      "cell_type": "code",
      "metadata": {
        "id": "pBksiAGGjhzh"
      },
      "source": [
        "cov, mu = calculate_covariance_mean(training_data, dataset)"
      ],
      "execution_count": 17,
      "outputs": []
    },
    {
      "cell_type": "code",
      "metadata": {
        "colab": {
          "base_uri": "https://localhost:8080/"
        },
        "id": "LtZfoDiVjhzi",
        "outputId": "f7a982dc-45b5-46ba-cb43-e80f127a537e"
      },
      "source": [
        "np.linalg.det(cov[0])"
      ],
      "execution_count": 18,
      "outputs": [
        {
          "output_type": "execute_result",
          "data": {
            "text/plain": [
              "5.0368316757456565e-298"
            ]
          },
          "metadata": {},
          "execution_count": 18
        }
      ]
    },
    {
      "cell_type": "code",
      "metadata": {
        "colab": {
          "base_uri": "https://localhost:8080/"
        },
        "id": "lv23RxK6jhzj",
        "outputId": "a7206d82-9ae9-44ed-b9dc-365dd8823bae"
      },
      "source": [
        "# K-NN\n",
        "k = 1\n",
        "while (k<=8):\n",
        "  score = 0\n",
        "  actual_tests = len(testing_data)\n",
        "  for i in range(len(testing_data)):\n",
        "      test_class = int(i/test_per_subject)\n",
        "      dist = np.zeros(shape=(len(training_data)))\n",
        "      for j in range(len(training_data)):\n",
        "          # d =  np.dot(testing_data[i] - mu[j], np.dot(np.linalg.inv(cov[j]), (testing_data[i] - mu[j]).T))\n",
        "          d = np.linalg.norm(testing_data[i] - training_data[j])\n",
        "          dist[j] = d\n",
        "      \n",
        "      sort = np.argsort(dist)\n",
        "      \n",
        "      predicted_nearest_class = np.zeros(shape=dist.shape[0])\n",
        "      votes_class = np.zeros(shape=subjects)\n",
        "\n",
        "      for l in range(k):\n",
        "          predicted_nearest_class[l] = int(sort[l]/train_per_subject)\n",
        "          temp_class = int(predicted_nearest_class[l])\n",
        "          # print(temp_class)\n",
        "          votes_class[temp_class] += 1\n",
        "      \n",
        "      # print(sort[:k])\n",
        "      # print(votes_class)\n",
        "      \n",
        "      # print(np.where(votes_class == np.max(votes_class)))\n",
        "      same_votes = (np.where(votes_class == np.max(votes_class)))[0]\n",
        "      if len(same_votes) > 1:\n",
        "          # print('Same votes, skip this sample')\n",
        "          actual_tests -= 1\n",
        "          continue\n",
        "\n",
        "      votes_class = -1*votes_class\n",
        "      predicted_class = np.argsort(votes_class)[0]\n",
        "\n",
        "      # print(predicted_class)\n",
        "      # print(test_class)\n",
        "\n",
        "      if predicted_class == test_class:\n",
        "          score += 1\n",
        "          # print('Correct, score = ', score)\n",
        "      # else:\n",
        "          # print('Incorrect')\n",
        "      # print('-------------------------------------------')\n",
        "      \n",
        "  print('Accuracy of ',str(k),'-NN = ', (score*100/actual_tests))\n",
        "  k += 1"
      ],
      "execution_count": 20,
      "outputs": [
        {
          "output_type": "stream",
          "name": "stdout",
          "text": [
            "Accuracy of  1 -NN =  89.70588235294117\n",
            "Accuracy of  2 -NN =  100.0\n",
            "Accuracy of  3 -NN =  96.29629629629629\n",
            "Accuracy of  4 -NN =  97.5\n",
            "Accuracy of  5 -NN =  95.86206896551724\n",
            "Accuracy of  6 -NN =  92.19858156028369\n",
            "Accuracy of  7 -NN =  90.0\n",
            "Accuracy of  8 -NN =  89.70588235294117\n"
          ]
        }
      ]
    },
    {
      "cell_type": "code",
      "metadata": {
        "colab": {
          "base_uri": "https://localhost:8080/",
          "height": 296
        },
        "id": "Z3AlrzQ2jhzj",
        "outputId": "5dbd7742-b843-4f38-ff73-3cfef499a16d"
      },
      "source": [
        "# When using NORM\n",
        "accuracy = [89.7, 100.0, 96.29, 97.5, 95.86, 92.2, 90, 89.7]\n",
        "neighbours = [1,2,3,4,5,6,7,8]\n",
        "plt.xlabel('Number of Nearest Neighbours (k)')\n",
        "plt.ylabel('Accuracy in %')\n",
        "plt.plot(neighbours, accuracy)"
      ],
      "execution_count": 21,
      "outputs": [
        {
          "output_type": "execute_result",
          "data": {
            "text/plain": [
              "[<matplotlib.lines.Line2D at 0x7f389c6ac110>]"
            ]
          },
          "metadata": {},
          "execution_count": 21
        },
        {
          "output_type": "display_data",
          "data": {
            "image/png": "[encoded data removed]",
            "text/plain": [
              "<Figure size 432x288 with 1 Axes>"
            ]
          },
          "metadata": {
            "needs_background": "light"
          }
        }
      ]
    },
    {
      "cell_type": "code",
      "metadata": {
        "id": "hMktrkBWdb5L",
        "colab": {
          "base_uri": "https://localhost:8080/",
          "height": 296
        },
        "outputId": "c2ad229c-710e-4a55-c432-54d99e40ede3"
      },
      "source": [
        "# When distance is calculated as Mannhabolis Distance\n",
        "accuracy = [92.64, 97.43, 94.52, 88.88, 85.13, 82.87, 79.72, 75.64]\n",
        "neighbours = [1,2,3,4,5,6,7,8]\n",
        "plt.xlabel('Number of Nearest Neighbours (k)')\n",
        "plt.ylabel('Accuracy in %')\n",
        "plt.plot(neighbours, accuracy)"
      ],
      "execution_count": 19,
      "outputs": [
        {
          "output_type": "execute_result",
          "data": {
            "text/plain": [
              "[<matplotlib.lines.Line2D at 0x7f389c777450>]"
            ]
          },
          "metadata": {},
          "execution_count": 19
        },
        {
          "output_type": "display_data",
          "data": {
            "image/png": "[encoded data removed]",
            "text/plain": [
              "<Figure size 432x288 with 1 Axes>"
            ]
          },
          "metadata": {
            "needs_background": "light"
          }
        }
      ]
    },
    {
      "cell_type": "code",
      "metadata": {
        "id": "IdHsRabl9ZB-"
      },
      "source": [
        ""
      ],
      "execution_count": null,
      "outputs": []
    }
  ]
}