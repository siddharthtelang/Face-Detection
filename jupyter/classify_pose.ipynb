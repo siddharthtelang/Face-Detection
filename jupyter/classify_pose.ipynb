{
 "cells": [
  {
   "cell_type": "code",
   "execution_count": 534,
   "metadata": {},
   "outputs": [],
   "source": [
    "import scipy.io as sio\n",
    "import numpy as np\n",
    "import matplotlib.pyplot as plt\n",
    "import math\n",
    "from sklearn.decomposition import PCA\n",
    "import random"
   ]
  },
  {
   "cell_type": "code",
   "execution_count": 535,
   "metadata": {},
   "outputs": [],
   "source": [
    "# initialization\n",
    "subjects = 200\n",
    "types = 2\n",
    "usePCA = True\n",
    "useMDA = False\n",
    "dataset_file = 'Data/data.mat'\n",
    "dataset = 'face'"
   ]
  },
  {
   "cell_type": "code",
   "execution_count": 536,
   "metadata": {},
   "outputs": [],
   "source": [
    "# load the dataset\n",
    "data = sio.loadmat(dataset_file)\n",
    "data = data.get(dataset)"
   ]
  },
  {
   "cell_type": "code",
   "execution_count": 537,
   "metadata": {},
   "outputs": [],
   "source": [
    "# flatten the dataset\n",
    "flattened = np.zeros(shape=(subjects*types, data.shape[0]*data.shape[1]))\n",
    "\n",
    "# label for neutral and expression - 0 / 1\n",
    "y = np.ones(shape=(subjects*types)) # by default all are one\n",
    "c = 0\n",
    "for i in range(0, data.shape[2], 3):\n",
    "    temp1 = data[:,:,i]\n",
    "    temp2 = data[:,:,i+1]\n",
    "    flattened[c] = temp1.flatten()\n",
    "    flattened[c+1] = temp2.flatten()\n",
    "    y[c+1] = -1 # expression label -1\n",
    "    c += 2"
   ]
  },
  {
   "cell_type": "code",
   "execution_count": 538,
   "metadata": {},
   "outputs": [],
   "source": [
    "def doPCA(flattened, dim):\n",
    "    pca = PCA(dim)\n",
    "    projected = pca.fit_transform(flattened)\n",
    "    return projected"
   ]
  },
  {
   "cell_type": "code",
   "execution_count": 539,
   "metadata": {},
   "outputs": [
    {
     "name": "stdout",
     "output_type": "stream",
     "text": [
      "Minimum dimensions required for 95% retention  132\n"
     ]
    },
    {
     "data": {
      "image/png": "[encoded data removed]",
      "text/plain": [
       "<Figure size 432x288 with 1 Axes>"
      ]
     },
     "metadata": {
      "needs_background": "light"
     },
     "output_type": "display_data"
    }
   ],
   "source": [
    "# Perform PCA if true\n",
    "if usePCA:\n",
    "    pca = PCA().fit(flattened)\n",
    "    plt.figure()\n",
    "    plt.xlabel('Dimensions')\n",
    "    plt.ylabel('Variance Retention')\n",
    "    plt.plot(pca.explained_variance_ratio_.cumsum(), lw=3)\n",
    "    min_dim = (np.where(pca.explained_variance_ratio_.cumsum() > 0.95))[0][0]\n",
    "    print('Minimum dimensions required for 95% retention ', min_dim)\n",
    "    projected = doPCA(flattened, min_dim+10)"
   ]
  },
  {
   "cell_type": "code",
   "execution_count": 540,
   "metadata": {},
   "outputs": [
    {
     "data": {
      "text/plain": [
       "(400, 142)"
      ]
     },
     "execution_count": 540,
     "metadata": {},
     "output_type": "execute_result"
    }
   ],
   "source": [
    "projected.shape"
   ]
  },
  {
   "cell_type": "code",
   "execution_count": 541,
   "metadata": {},
   "outputs": [
    {
     "data": {
      "text/plain": [
       "(100, 1)"
      ]
     },
     "execution_count": 541,
     "metadata": {},
     "output_type": "execute_result"
    }
   ],
   "source": [
    "testing_data.shape"
   ]
  },
  {
   "cell_type": "code",
   "execution_count": 542,
   "metadata": {},
   "outputs": [
    {
     "data": {
      "text/plain": [
       "(320, 1)"
      ]
     },
     "execution_count": 542,
     "metadata": {},
     "output_type": "execute_result"
    }
   ],
   "source": [
    "training_data.shape"
   ]
  },
  {
   "cell_type": "code",
   "execution_count": 407,
   "metadata": {},
   "outputs": [],
   "source": [
    "projected = flattened"
   ]
  },
  {
   "cell_type": "code",
   "execution_count": 543,
   "metadata": {},
   "outputs": [
    {
     "name": "stdout",
     "output_type": "stream",
     "text": [
      "training_data size =  300\n",
      "testing_data size =  100\n"
     ]
    }
   ],
   "source": [
    "# init the training and testing datad\n",
    "training_size = 300 #int(4*projected.shape[0]/5)\n",
    "testing_size = 100 #subjects*types - training_size\n",
    "# training_data = np.zeros(shape=(training_size, projected.shape[1]))\n",
    "# testing_data = np.zeros(shape=(testing_size, projected.shape[1]))\n",
    "\n",
    "y_train = y[:training_size]\n",
    "y_test = y[training_size:]\n",
    "\n",
    "training_data = projected[:training_size]\n",
    "testing_data = projected[training_size:]\n",
    "\n",
    "print('training_data size = ', training_size)\n",
    "print('testing_data size = ', testing_size)"
   ]
  },
  {
   "cell_type": "markdown",
   "metadata": {},
   "source": [
    "# ML ESTIMATE"
   ]
  },
  {
   "cell_type": "code",
   "execution_count": 544,
   "metadata": {},
   "outputs": [],
   "source": [
    "expression_size = int(training_size / 2)\n",
    "neutral_size = expression_size\n",
    "expression = np.zeros(shape=(expression_size, projected.shape[1]))\n",
    "neutral = np.zeros(shape=(neutral_size, projected.shape[1]))\n",
    "# build up the expression and neutral training set\n",
    "c = 0\n",
    "for i in range(0, training_size, 2):\n",
    "    neutral[c] = projected[i]\n",
    "    expression[c] = projected[i+1]\n",
    "    c += 1"
   ]
  },
  {
   "cell_type": "markdown",
   "metadata": {},
   "source": [
    "### Calculate class mean and covariance"
   ]
  },
  {
   "cell_type": "code",
   "execution_count": 545,
   "metadata": {},
   "outputs": [],
   "source": [
    "# mean\n",
    "mu_expression = np.mean(expression, axis=0)\n",
    "mu_neutral = np.mean(neutral, axis=0)\n",
    "\n",
    "# covariance expression\n",
    "mat = expression - mu_expression\n",
    "cov_expression = (np.dot(mat.T, mat)) / expression_size\n",
    "\n",
    "#covariance neutral\n",
    "mat = neutral - mu_neutral\n",
    "cov_neutral = (np.dot(mat.T, mat)) / neutral_size"
   ]
  },
  {
   "cell_type": "code",
   "execution_count": 546,
   "metadata": {},
   "outputs": [
    {
     "name": "stdout",
     "output_type": "stream",
     "text": [
      "2.135214323188809\n",
      "2.3081721575630496\n"
     ]
    }
   ],
   "source": [
    "# check for zero determinant, add noise if zero\n",
    "while abs(np.linalg.det(cov_expression)) <= 2:\n",
    "    cov_expression = cov_expression + 0.001*np.identity(cov_expression.shape[0])\n",
    "print(np.linalg.det(cov_expression))\n",
    "\n",
    "while abs(np.linalg.det(cov_neutral)) <= 2:\n",
    "    cov_neutral = cov_neutral + 0.001*np.identity(cov_neutral.shape[0])\n",
    "print(np.linalg.det(cov_neutral))"
   ]
  },
  {
   "cell_type": "markdown",
   "metadata": {},
   "source": [
    "# Test data using ML"
   ]
  },
  {
   "cell_type": "code",
   "execution_count": 547,
   "metadata": {},
   "outputs": [
    {
     "name": "stdout",
     "output_type": "stream",
     "text": [
      "Accuracy of ML Estimate =  87.0\n"
     ]
    }
   ],
   "source": [
    "score = 0\n",
    "for i in range(testing_size):\n",
    "    likelihood_neutral = -0.5*math.log(np.linalg.det(cov_neutral)) - 0.5*np.dot((testing_data[i] - mu_neutral), np.dot(np.linalg.inv(cov_neutral), (testing_data[i] - mu_neutral).T))\n",
    "    likelihood_expression = -0.5*math.log(np.linalg.det(cov_expression)) - 0.5*np.dot((testing_data[i] - mu_expression), np.dot(np.linalg.inv(cov_expression), (testing_data[i] - mu_expression).T))\n",
    "    if likelihood_neutral > likelihood_expression:\n",
    "        predicted_class = 1\n",
    "    else:\n",
    "        predicted_class = -1\n",
    "    if predicted_class == y_test[i]:\n",
    "        score += 1\n",
    "        # print('Correct classification, score = ', score)\n",
    "    # else:\n",
    "        # print('Incorrect classification for test data ', i)\n",
    "\n",
    "accuracy = score*100/testing_size\n",
    "print('Accuracy of ML Estimate = ',accuracy)"
   ]
  },
  {
   "cell_type": "markdown",
   "metadata": {},
   "source": [
    "# --------------------------------------------------------------------------------------------------------------------------------------------------------------------------------------------------"
   ]
  },
  {
   "cell_type": "markdown",
   "metadata": {},
   "source": [
    "# K-NN Estimate"
   ]
  },
  {
   "cell_type": "code",
   "execution_count": 523,
   "metadata": {},
   "outputs": [
    {
     "name": "stdout",
     "output_type": "stream",
     "text": [
      "Accuracy of  1 -NN =  84.0\n",
      "Accuracy of  2 -NN =  92.5\n",
      "Accuracy of  3 -NN =  91.0\n",
      "Accuracy of  4 -NN =  93.75\n",
      "Accuracy of  5 -NN =  93.0\n",
      "Accuracy of  6 -NN =  94.84536082474227\n",
      "Accuracy of  7 -NN =  95.0\n",
      "Accuracy of  8 -NN =  95.78947368421052\n",
      "Accuracy of  9 -NN =  92.0\n"
     ]
    },
    {
     "data": {
      "text/plain": [
       "[<matplotlib.lines.Line2D at 0xca9970fc70>]"
      ]
     },
     "execution_count": 523,
     "metadata": {},
     "output_type": "execute_result"
    },
    {
     "data": {
      "image/png": "[encoded data removed]",
      "text/plain": [
       "<Figure size 720x720 with 1 Axes>"
      ]
     },
     "metadata": {
      "needs_background": "light"
     },
     "output_type": "display_data"
    }
   ],
   "source": [
    "# K-NN\n",
    "nn = [i for i in range(1,10)]\n",
    "acc = []\n",
    "for k in nn:\n",
    "    score = 0\n",
    "    actual_tests = len(testing_data)\n",
    "\n",
    "    for i in range(1,len(testing_data)):\n",
    "        neutral_score = 0\n",
    "        expression_score = 0\n",
    "\n",
    "        test_class = y_test[i]\n",
    "        dist = np.zeros(shape=(len(training_data)))\n",
    "        \n",
    "        for j in range(len(training_data)):\n",
    "            # d =  np.dot(testing_data[i] - mu[j], np.dot(np.linalg.inv(cov[j]), (testing_data[i] - mu[j]).T))\n",
    "            d = np.linalg.norm(testing_data[i] - training_data[j])\n",
    "            dist[j] = d\n",
    "        \n",
    "        sort = np.argsort(dist)\n",
    "        \n",
    "        predicted_nearest_class = np.zeros(shape=dist.shape[0])\n",
    "        votes_class = np.zeros(shape=subjects)\n",
    "\n",
    "        for l in range(k):\n",
    "            predicted_nearest_class[l] = y_train[int(sort[l])]\n",
    "            if predicted_nearest_class[l] == 1:\n",
    "                neutral_score += 1\n",
    "            else:\n",
    "                expression_score += 1\n",
    "\n",
    "        if neutral_score > expression_score:\n",
    "            predicted_class = 1\n",
    "        elif neutral_score < expression_score:\n",
    "            predicted_class = -1\n",
    "        elif neutral_score == expression_score:\n",
    "            # print('Tie')\n",
    "            actual_tests -= 1\n",
    "            continue\n",
    "\n",
    "        if predicted_class == test_class:\n",
    "            score += 1\n",
    "  \n",
    "    accuracy = (score*100/actual_tests)\n",
    "    print('Accuracy of ',str(k),'-NN = ', accuracy)\n",
    "    acc.append(accuracy)\n",
    "\n",
    "plt.figure(figsize=(10,10))\n",
    "plt.ylim(50,100)\n",
    "plt.xlabel('Number of NN')\n",
    "plt.ylabel('Accuracy')\n",
    "plt.plot(nn, acc)"
   ]
  },
  {
   "cell_type": "code",
   "execution_count": null,
   "metadata": {},
   "outputs": [],
   "source": [
    "plt.figure(figsize=(10,10))\n",
    "plt.ylim(50,100)\n",
    "plt.xlabel('Number of NN')\n",
    "plt.ylabel('Accuracy')\n",
    "plt.plot(nn, acc)"
   ]
  },
  {
   "cell_type": "code",
   "execution_count": 522,
   "metadata": {},
   "outputs": [],
   "source": [
    "#lda\n",
    "# Accuracy of  1 -NN =  86.0\n",
    "# Accuracy of  2 -NN =  94.04761904761905\n",
    "# Accuracy of  3 -NN =  95.0\n",
    "# Accuracy of  4 -NN =  94.89795918367346\n",
    "# Accuracy of  5 -NN =  94.0\n",
    "# Accuracy of  6 -NN =  94.79166666666667\n",
    "# Accuracy of  7 -NN =  94.0\n",
    "# Accuracy of  8 -NN =  94.79166666666667\n",
    "# Accuracy of  9 -NN =  92.0"
   ]
  },
  {
   "cell_type": "code",
   "execution_count": null,
   "metadata": {},
   "outputs": [],
   "source": [
    "#PCA\n",
    "# Accuracy of  1 -NN =  78.0\n",
    "# Accuracy of  2 -NN =  87.14285714285714\n",
    "# Accuracy of  3 -NN =  78.0\n",
    "# Accuracy of  4 -NN =  85.46511627906976\n",
    "# Accuracy of  5 -NN =  81.5\n",
    "# Accuracy of  6 -NN =  85.87570621468926\n",
    "# Accuracy of  7 -NN =  80.5\n",
    "# Accuracy of  8 -NN =  84.26966292134831\n",
    "# Accuracy of  9 -NN =  80.5"
   ]
  },
  {
   "cell_type": "code",
   "execution_count": null,
   "metadata": {},
   "outputs": [],
   "source": []
  },
  {
   "cell_type": "markdown",
   "metadata": {},
   "source": [
    "# SVM"
   ]
  },
  {
   "cell_type": "code",
   "execution_count": 393,
   "metadata": {},
   "outputs": [],
   "source": [
    "import cvxopt\n",
    "import cvxopt.solvers"
   ]
  },
  {
   "cell_type": "code",
   "execution_count": 524,
   "metadata": {},
   "outputs": [],
   "source": [
    "#Form the Kernel\n",
    "def get_kernel(x, kernel_type, param=0.006):\n",
    "    kernel = np.zeros(shape=(x.shape[0], x.shape[0]), dtype=float)\n",
    "    for i in range(kernel.shape[0]):\n",
    "        for j in range(kernel.shape[1]):\n",
    "            if kernel_type == 'rbf':\n",
    "                kernel[i][j] = math.exp( -1*(np.linalg.norm(x[i] - x[j])**2)/(param*param) )\n",
    "            elif kernel_type == 'poly':\n",
    "                kernel[i][j] = math.pow((np.dot(x[i].T, x[j]) +1), param)\n",
    "            else:\n",
    "                kernel[i][j] = np.dot(x[i].T, x[j])\n",
    "    \n",
    "    while abs(np.linalg.det(kernel)) <= 2:\n",
    "        kernel = kernel + 0.001*np.identity(kernel.shape[0])\n",
    "    print(np.linalg.det(kernel))\n",
    "    \n",
    "    return kernel"
   ]
  },
  {
   "cell_type": "code",
   "execution_count": 12,
   "metadata": {},
   "outputs": [],
   "source": [
    "# P = cvxopt.matrix(np.outer(y_train,y_train)*kernel)\n",
    "# q = cvxopt.matrix(np.ones(training_size) * -1)\n",
    "# A = cvxopt.matrix(y_train, (1,training_size))\n",
    "# b = cvxopt.matrix(0.0)\n",
    "# G = cvxopt.matrix(np.diag(np.ones(training_size) * -1))\n",
    "# h = cvxopt.matrix(np.zeros(training_size))\n",
    "\n",
    "# solution = cvxopt.solvers.qp(P, q, G, h, A, b)"
   ]
  },
  {
   "cell_type": "code",
   "execution_count": 394,
   "metadata": {},
   "outputs": [],
   "source": [
    "def evaluate_kernel(x, y, kernel_type='rbf', param=0.006):\n",
    "    \"\"\"Evaluates the kernel at a specific test data\n",
    "\n",
    "    Args:\n",
    "        x (np array): Training data\n",
    "        y (np array): Test point\n",
    "        kernel_type (str, optional): rbf or poly. Defaults to 'rbf'.\n",
    "        param (int, optional): scale of the kernel. Defaults to 10.\n",
    "\n",
    "    Returns:\n",
    "        [float]: [kernel evaluated at y]\n",
    "    \"\"\"\n",
    "    val = np.zeros(shape=(x.shape[0]), dtype=float)\n",
    "    for i in range(x.shape[0]):\n",
    "        if kernel_type == 'rbf':\n",
    "            val[i] += math.exp( -1*(np.linalg.norm(x[i] - y)**2)/(param*param) )\n",
    "        elif kernel_type == 'poly':\n",
    "            val[i] += math.pow((np.dot(x[i].T, y) +1), param)\n",
    "        else:\n",
    "            val[i] = np.dot(x[i].T, y)\n",
    "        \n",
    "    return val"
   ]
  },
  {
   "cell_type": "code",
   "execution_count": 240,
   "metadata": {},
   "outputs": [],
   "source": [
    "# tr = training_data\n",
    "# te = testing_data\n",
    "# ytr = y_train\n",
    "# yte = y_test\n",
    "# trs = training_size\n",
    "# tes = testing_size\n",
    "\n",
    "# training_data = tr\n",
    "# testing_data = te\n",
    "# y_train = ytr\n",
    "# y_test = yte\n",
    "# training_size = 300\n",
    "# testing_size = 100"
   ]
  },
  {
   "cell_type": "code",
   "execution_count": null,
   "metadata": {},
   "outputs": [],
   "source": [
    "# training_data = np.array([[1,1], [2,2], [2,0], [0,0], [1,0] , [0,1]])\n",
    "# testing_data = np.array([[1.5,1.5], [1.75,1.75], [0.5,0.25], [0.5,0.5]])\n",
    "# y_train = np.array([1,1,1,-1,-1,-1], dtype=float)\n",
    "# y_test = np.array([1,1,-1,-1], dtype=float)\n",
    "# training_size = 6\n",
    "# testing_size = 4"
   ]
  },
  {
   "cell_type": "code",
   "execution_count": 548,
   "metadata": {},
   "outputs": [],
   "source": [
    "from sklearn import svm\n",
    "from sklearn.metrics import classification_report, confusion_matrix"
   ]
  },
  {
   "cell_type": "code",
   "execution_count": 550,
   "metadata": {},
   "outputs": [
    {
     "name": "stdout",
     "output_type": "stream",
     "text": [
      "0.87\n"
     ]
    }
   ],
   "source": [
    "gam = [0.005]\n",
    "for g in gam:\n",
    "    clf = svm.SVC(kernel='rbf')\n",
    "    clf.fit(training_data, y_train)\n",
    "    pred = clf.predict(testing_data)\n",
    "    print(accuracy_score(y_test, pred))"
   ]
  },
  {
   "cell_type": "code",
   "execution_count": 551,
   "metadata": {},
   "outputs": [
    {
     "data": {
      "text/plain": [
       "array([-0.11742175])"
      ]
     },
     "execution_count": 551,
     "metadata": {},
     "output_type": "execute_result"
    }
   ],
   "source": [
    "clf.intercept_"
   ]
  },
  {
   "cell_type": "code",
   "execution_count": 552,
   "metadata": {},
   "outputs": [
    {
     "data": {
      "text/plain": [
       "0.006773038322295767"
      ]
     },
     "execution_count": 552,
     "metadata": {},
     "output_type": "execute_result"
    }
   ],
   "source": [
    "1/(training_size*training_data.var())"
   ]
  },
  {
   "cell_type": "code",
   "execution_count": 462,
   "metadata": {},
   "outputs": [
    {
     "data": {
      "text/plain": [
       "'scale'"
      ]
     },
     "execution_count": 462,
     "metadata": {},
     "output_type": "execute_result"
    }
   ],
   "source": [
    "clf.gamma"
   ]
  },
  {
   "cell_type": "code",
   "execution_count": null,
   "metadata": {},
   "outputs": [],
   "source": [
    "pred = clf.predict(testing_data)\n",
    "pred"
   ]
  },
  {
   "cell_type": "code",
   "execution_count": 17,
   "metadata": {},
   "outputs": [],
   "source": [
    "from sklearn.metrics import accuracy_score\n",
    "# accuracy_score(y_test, pred)"
   ]
  },
  {
   "cell_type": "code",
   "execution_count": 449,
   "metadata": {},
   "outputs": [],
   "source": [
    "kernel = get_kernel(training_data, kernel_type=kernel_type, param=0.0009118136546038253)"
   ]
  },
  {
   "cell_type": "code",
   "execution_count": 450,
   "metadata": {},
   "outputs": [
    {
     "name": "stdout",
     "output_type": "stream",
     "text": [
      "2.671444945969816\n"
     ]
    }
   ],
   "source": [
    "# while abs(np.linalg.det(kernel)) <= 2:\n",
    "#     kernel = kernel + 0.001*np.identity(kernel.shape[0])\n",
    "# print(np.linalg.det(kernel))"
   ]
  },
  {
   "cell_type": "code",
   "execution_count": 557,
   "metadata": {},
   "outputs": [
    {
     "name": "stdout",
     "output_type": "stream",
     "text": [
      "2.456291330358944\n",
      "     pcost       dcost       gap    pres   dres\n",
      " 0: -1.1228e+02 -2.6206e+02  1e+02  2e-14  1e+00\n",
      " 1: -1.4119e+02 -1.4348e+02  2e+00  6e-15  2e-01\n",
      " 2: -1.4955e+02 -1.4982e+02  3e-01  3e-15  1e-16\n",
      " 3: -1.4955e+02 -1.4955e+02  3e-03  3e-15  1e-16\n",
      " 4: -1.4955e+02 -1.4955e+02  3e-05  5e-15  1e-16\n",
      "Optimal solution found.\n",
      "50\n",
      "Cross Validation Accuracy with  rbf  kernel with param  1  is =  50.0\n",
      "2.403095044255576\n",
      "     pcost       dcost       gap    pres   dres\n",
      " 0: -1.1245e+02 -2.6743e+02  2e+02  6e-15  2e+00\n",
      " 1: -1.4080e+02 -1.4714e+02  6e+00  7e-15  3e-01\n",
      " 2: -1.4991e+02 -1.5062e+02  7e-01  1e-14  2e-16\n",
      " 3: -1.4991e+02 -1.4991e+02  7e-03  3e-15  2e-16\n",
      " 4: -1.4991e+02 -1.4991e+02  7e-05  3e-15  1e-16\n",
      "Optimal solution found.\n",
      "50\n",
      "Cross Validation Accuracy with  rbf  kernel with param  2  is =  50.0\n",
      "2.2221035872150527\n",
      "     pcost       dcost       gap    pres   dres\n",
      " 0: -1.1161e+02 -2.8064e+02  2e+02  3e-15  2e+00\n",
      " 1: -1.3765e+02 -1.5740e+02  2e+01  1e-14  4e-01\n",
      " 2: -1.4865e+02 -1.5041e+02  2e+00  8e-15  3e-04\n",
      " 3: -1.4866e+02 -1.4868e+02  2e-02  3e-15  3e-06\n",
      " 4: -1.4866e+02 -1.4866e+02  2e-04  3e-15  3e-08\n",
      " 5: -1.4866e+02 -1.4866e+02  2e-06  3e-15  3e-10\n",
      "Optimal solution found.\n",
      "63\n",
      "Cross Validation Accuracy with  rbf  kernel with param  3  is =  63.0\n",
      "2.1283027382862225\n",
      "     pcost       dcost       gap    pres   dres\n",
      " 0: -1.0036e+02 -2.7443e+02  2e+02  2e-14  2e+00\n",
      " 1: -1.2028e+02 -1.5639e+02  4e+01  4e-15  5e-01\n",
      " 2: -1.3143e+02 -1.3428e+02  3e+00  6e-15  2e-03\n",
      " 3: -1.3145e+02 -1.3150e+02  5e-02  3e-15  3e-05\n",
      " 4: -1.3146e+02 -1.3146e+02  1e-03  3e-15  4e-07\n",
      " 5: -1.3146e+02 -1.3146e+02  6e-05  3e-15  4e-09\n",
      "Optimal solution found.\n",
      "73\n",
      "Cross Validation Accuracy with  rbf  kernel with param  4  is =  73.0\n",
      "2.0685780124473876\n",
      "     pcost       dcost       gap    pres   dres\n",
      " 0: -8.3825e+01 -2.5093e+02  6e+02  2e+01  2e+00\n",
      " 1: -1.0102e+02 -2.0247e+02  1e+02  2e+00  2e-01\n",
      " 2: -1.0790e+02 -1.2056e+02  1e+01  7e-02  7e-03\n",
      " 3: -1.0893e+02 -1.0965e+02  7e-01  2e-03  2e-04\n",
      " 4: -1.0906e+02 -1.0909e+02  3e-02  5e-05  5e-06\n",
      " 5: -1.0907e+02 -1.0907e+02  2e-03  8e-07  8e-08\n",
      " 6: -1.0907e+02 -1.0907e+02  9e-05  8e-09  8e-10\n",
      "Optimal solution found.\n",
      "74\n",
      "Cross Validation Accuracy with  rbf  kernel with param  5  is =  74.0\n",
      "2.7518545506849352\n",
      "     pcost       dcost       gap    pres   dres\n",
      " 0: -7.1399e+01 -2.2211e+02  7e+02  2e+01  2e+00\n",
      " 1: -7.6562e+01 -1.8511e+02  1e+02  1e+00  1e-01\n",
      " 2: -9.0501e+01 -1.0564e+02  2e+01  5e-02  5e-03\n",
      " 3: -9.2337e+01 -9.3920e+01  2e+00  4e-03  4e-04\n",
      " 4: -9.2635e+01 -9.2738e+01  1e-01  1e-04  1e-05\n",
      " 5: -9.2669e+01 -9.2674e+01  6e-03  2e-06  2e-07\n",
      " 6: -9.2671e+01 -9.2671e+01  3e-04  3e-08  2e-09\n",
      " 7: -9.2671e+01 -9.2671e+01  2e-05  3e-10  2e-11\n",
      "Optimal solution found.\n",
      "78\n",
      "Cross Validation Accuracy with  rbf  kernel with param  6  is =  78.0\n",
      "2.486090879917653\n",
      "     pcost       dcost       gap    pres   dres\n",
      " 0: -6.3767e+01 -2.0122e+02  8e+02  2e+01  2e+00\n",
      " 1: -6.2636e+01 -1.7426e+02  1e+02  9e-01  8e-02\n",
      " 2: -7.9776e+01 -9.4885e+01  2e+01  4e-02  3e-03\n",
      " 3: -8.2003e+01 -8.3516e+01  2e+00  2e-03  2e-04\n",
      " 4: -8.2393e+01 -8.2540e+01  1e-01  1e-04  1e-05\n",
      " 5: -8.2449e+01 -8.2458e+01  9e-03  2e-06  2e-07\n",
      " 6: -8.2453e+01 -8.2454e+01  4e-04  4e-08  4e-09\n",
      " 7: -8.2454e+01 -8.2454e+01  1e-05  5e-10  4e-11\n",
      "Optimal solution found.\n",
      "75\n",
      "Cross Validation Accuracy with  rbf  kernel with param  7  is =  75.0\n",
      "2.374911988551327\n",
      "     pcost       dcost       gap    pres   dres\n",
      " 0: -5.9246e+01 -1.8771e+02  8e+02  2e+01  2e+00\n",
      " 1: -5.4870e+01 -1.6471e+02  1e+02  7e-01  6e-02\n",
      " 2: -7.3489e+01 -8.7194e+01  1e+01  2e-02  2e-03\n",
      " 3: -7.5696e+01 -7.7192e+01  1e+00  2e-03  1e-04\n",
      " 4: -7.6103e+01 -7.6264e+01  2e-01  1e-04  1e-05\n",
      " 5: -7.6169e+01 -7.6179e+01  9e-03  3e-06  2e-07\n",
      " 6: -7.6174e+01 -7.6175e+01  4e-04  4e-08  4e-09\n",
      " 7: -7.6174e+01 -7.6174e+01  2e-05  5e-10  5e-11\n",
      "Optimal solution found.\n",
      "65\n",
      "Cross Validation Accuracy with  rbf  kernel with param  8  is =  65.0\n",
      "2.2936952633010783\n",
      "     pcost       dcost       gap    pres   dres\n",
      " 0: -5.6626e+01 -1.7934e+02  8e+02  2e+01  2e+00\n",
      " 1: -5.0327e+01 -1.5742e+02  1e+02  5e-01  4e-02\n",
      " 2: -6.9803e+01 -8.2637e+01  1e+01  1e-02  1e-03\n",
      " 3: -7.1913e+01 -7.3287e+01  1e+00  1e-03  8e-05\n",
      " 4: -7.2302e+01 -7.2445e+01  1e-01  7e-05  6e-06\n",
      " 5: -7.2362e+01 -7.2370e+01  8e-03  2e-06  2e-07\n",
      " 6: -7.2366e+01 -7.2367e+01  4e-04  3e-08  3e-09\n",
      " 7: -7.2366e+01 -7.2366e+01  2e-05  4e-10  3e-11\n",
      "Optimal solution found.\n",
      "60\n",
      "Cross Validation Accuracy with  rbf  kernel with param  9  is =  60.0\n",
      "2.6929944970160147\n",
      "     pcost       dcost       gap    pres   dres\n",
      " 0: -5.5164e+01 -1.7430e+02  8e+02  2e+01  2e+00\n",
      " 1: -4.7505e+01 -1.5200e+02  1e+02  2e-01  2e-02\n",
      " 2: -6.7787e+01 -7.9216e+01  1e+01  5e-03  4e-04\n",
      " 3: -6.9681e+01 -7.0945e+01  1e+00  4e-04  3e-05\n",
      " 4: -7.0037e+01 -7.0157e+01  1e-01  2e-05  2e-06\n",
      " 5: -7.0088e+01 -7.0095e+01  7e-03  5e-07  4e-08\n",
      " 6: -7.0092e+01 -7.0092e+01  3e-04  6e-09  5e-10\n",
      " 7: -7.0092e+01 -7.0092e+01  2e-05  7e-11  6e-12\n",
      "Optimal solution found.\n",
      "58\n",
      "Cross Validation Accuracy with  rbf  kernel with param  10  is =  57.99999999999999\n"
     ]
    }
   ],
   "source": [
    "params = [1,2,3,4,5,6,7,8,9,10]\n",
    "# params = [6,6.1,6.2,6.3,6.4,6.5,6.6,6.7,6.8,6.9,7]\n",
    "# params = [0.00091, 0.002, 0.003, 0.008, 0.2, 0.3, 0.0002, 1,2,3,4,5]\n",
    "# params = [3]\n",
    "# params = [0.006773038322295767]\n",
    "# params = [2.1,2.2,2.3,2.4,2.5,2.6,2.7,2.8,2.9]\n",
    "# params = [0.1,0.2,0.3,0.4,0.5,0.6,0.7,0.8,0.9,1,2,3,4,5,6]\n",
    "scores = []\n",
    "# param = 1\n",
    "for param in params:\n",
    "    # C = 0.5\n",
    "    threshold = 1e-5\n",
    "    kernel_type = 'rbf'\n",
    "    kernel = get_kernel(training_data, kernel_type=kernel_type, param=param)\n",
    "\n",
    "    P = cvxopt.matrix(np.outer(y_train,y_train)*kernel)\n",
    "    q = cvxopt.matrix(np.ones(training_size) * -1)\n",
    "    A = cvxopt.matrix(y_train, (1,training_size))\n",
    "    b = cvxopt.matrix(0.0)\n",
    "    G = cvxopt.matrix(np.diag(np.ones(training_size) * -1))\n",
    "    # G = cvxopt.matrix(np.vstack((np.eye(training_size)*-1,np.eye(training_size))))\n",
    "    h = cvxopt.matrix(np.zeros(training_size))\n",
    "    # h = cvxopt.matrix(np.hstack((np.zeros(training_size), np.ones(training_size) * C)))\n",
    "\n",
    "    solution = cvxopt.solvers.qp(P, q, G, h, A, b)\n",
    "\n",
    "    # support vectors\n",
    "    sv = np.ravel(solution['x'])\n",
    "\n",
    "    for i in range(sv.shape[0]):\n",
    "        if sv[i] <= threshold:\n",
    "            sv[i] = 0\n",
    "\n",
    "    # hyperplane\n",
    "    # theta = np.dot((sv*y_train).T, training_data)\n",
    "\n",
    "    # Find the intercept\n",
    "    idx = np.argsort(sv)\n",
    "    idx = idx[::-1][0]\n",
    "\n",
    "    k1 = evaluate_kernel(training_data, training_data[idx], kernel_type=kernel_type, param=param)\n",
    "    sum = 0.0\n",
    "    for m in range(training_size):\n",
    "        sum += k1[m]*sv[m]*y_train[m]\n",
    "    theta0 = 1/y_train[idx] - sum\n",
    "\n",
    "    # cross-validation\n",
    "    score = 0\n",
    "    for i in range(len(testing_data)):\n",
    "        # test = np.dot((sv*y_train).T, evaluate_kernel(training_data, testing_data[i], kernel_type, param)) + theta0\n",
    "        # test = np.dot(theta.T, testing_data[i]) + theta0\n",
    "\n",
    "        k2 = evaluate_kernel(training_data, testing_data[i], kernel_type=kernel_type, param=param)\n",
    "        test = 0.0\n",
    "\n",
    "        for m in range(training_size):\n",
    "            test += k2[m]*y_train[m]*sv[m]\n",
    "\n",
    "        test += theta0\n",
    "\n",
    "        if (test*y_test[i] >= 0):\n",
    "            score += 1\n",
    "            # print('Correct')\n",
    "        # else:\n",
    "            # print('Incorrect')\n",
    "\n",
    "    print(score)\n",
    "    accuracy = (score/testing_size)*100\n",
    "    scores.append(accuracy)\n",
    "    print('Cross Validation Accuracy with ', kernel_type, ' kernel with param ', str(param), ' is = ', str(accuracy))\n",
    "\n",
    "# label = kernel_type + ' Kernel Parameter'\n",
    "# label = 'Poly Kernel with Slack'\n",
    "# plt.xlabel(label)\n",
    "# plt.ylabel('Accuracy')\n",
    "# plt.plot(np.array(params), np.array(scores))\n",
    "    "
   ]
  },
  {
   "cell_type": "code",
   "execution_count": null,
   "metadata": {},
   "outputs": [],
   "source": []
  },
  {
   "cell_type": "code",
   "execution_count": null,
   "metadata": {},
   "outputs": [],
   "source": []
  },
  {
   "cell_type": "markdown",
   "metadata": {},
   "source": [
    "# ADA Boost"
   ]
  },
  {
   "cell_type": "code",
   "execution_count": 475,
   "metadata": {},
   "outputs": [],
   "source": [
    "def get_support_vector_multipler(kernel, training_data, training_size, y_train, threshold = 1e-6, C=1):\n",
    "\n",
    "    P = cvxopt.matrix(np.outer(y_train,y_train)*kernel)\n",
    "    q = cvxopt.matrix(np.ones(training_size) * -1)\n",
    "    A = cvxopt.matrix(y_train, (1,training_size))\n",
    "    b = cvxopt.matrix(0.0)\n",
    "    G = cvxopt.matrix(np.diag(np.ones(training_size) * -1))\n",
    "    # G = cvxopt.matrix(np.vstack((np.eye(training_size)*-1,np.eye(training_size))))\n",
    "    h = cvxopt.matrix(np.zeros(training_size))\n",
    "    # h = cvxopt.matrix(np.hstack((np.zeros(training_size), np.ones(training_size) * C)))\n",
    "\n",
    "    solution = cvxopt.solvers.qp(P, q, G, h, A, b)\n",
    "\n",
    "    # support vectors\n",
    "    sv = np.ravel(solution['x'])\n",
    "\n",
    "    for i in range(sv.shape[0]):\n",
    "        if sv[i] <= threshold:\n",
    "            sv[i] = 0\n",
    "    \n",
    "    return sv\n"
   ]
  },
  {
   "cell_type": "code",
   "execution_count": 476,
   "metadata": {},
   "outputs": [],
   "source": [
    "def get_test_train_validation(subjects, types, projected, training_size, testing_size):\n",
    "    # init the training and testing data\n",
    "\n",
    "    validation_size = subjects*types - testing_size \n",
    "\n",
    "    y_train = y[:training_size]\n",
    "    y_validation = y[:validation_size]\n",
    "    y_test = y[training_size:]\n",
    "\n",
    "    training_data = projected[:training_size]\n",
    "    validation_data = projected[:validation_size]\n",
    "    testing_data = projected[validation_size:]\n",
    "\n",
    "    print('training_data size = ', training_size)\n",
    "    print('Validation size = ', validation_size)\n",
    "    print('testing_data size = ', testing_size)\n",
    "\n",
    "    return training_data, validation_data, testing_data, y_train, y_validation, y_test"
   ]
  },
  {
   "cell_type": "code",
   "execution_count": 533,
   "metadata": {},
   "outputs": [
    {
     "name": "stdout",
     "output_type": "stream",
     "text": [
      "training_data size =  120\n",
      "Validation size =  300\n",
      "testing_data size =  100\n",
      "2.10823972084102\n",
      "     pcost       dcost       gap    pres   dres\n",
      " 0: -2.1963e+01 -5.9396e+01  3e+02  2e+01  2e+00\n",
      " 1: -2.5906e+01 -5.5023e+01  8e+01  4e+00  4e-01\n",
      " 2: -1.8973e+01 -2.8821e+01  1e+01  1e-01  1e-02\n",
      " 3: -2.0060e+01 -2.1177e+01  1e+00  7e-03  8e-04\n",
      " 4: -2.0407e+01 -2.0514e+01  1e-01  4e-04  4e-05\n",
      " 5: -2.0462e+01 -2.0470e+01  8e-03  1e-05  1e-06\n",
      " 6: -2.0467e+01 -2.0468e+01  3e-04  2e-07  2e-08\n",
      " 7: -2.0468e+01 -2.0468e+01  1e-05  2e-09  2e-10\n",
      "Optimal solution found.\n",
      "Error in iteration  1  is =  0.31666666666666676\n",
      "training_data size =  120\n",
      "Validation size =  300\n",
      "testing_data size =  100\n",
      "2.10823972084102\n",
      "     pcost       dcost       gap    pres   dres\n",
      " 0: -2.1963e+01 -5.9396e+01  3e+02  2e+01  2e+00\n",
      " 1: -2.5906e+01 -5.5023e+01  8e+01  4e+00  4e-01\n",
      " 2: -1.8973e+01 -2.8821e+01  1e+01  1e-01  1e-02\n",
      " 3: -2.0060e+01 -2.1177e+01  1e+00  7e-03  8e-04\n",
      " 4: -2.0407e+01 -2.0514e+01  1e-01  4e-04  4e-05\n",
      " 5: -2.0462e+01 -2.0470e+01  8e-03  1e-05  1e-06\n",
      " 6: -2.0467e+01 -2.0468e+01  3e-04  2e-07  2e-08\n",
      " 7: -2.0468e+01 -2.0468e+01  1e-05  2e-09  2e-10\n",
      "Optimal solution found.\n",
      "Error in iteration  2  is =  0.9395694397857133\n",
      "training_data size =  140\n",
      "Validation size =  300\n",
      "testing_data size =  100\n",
      "2.1085133820100674\n",
      "     pcost       dcost       gap    pres   dres\n",
      " 0: -2.5167e+01 -6.8300e+01  4e+02  2e+01  2e+00\n",
      " 1: -2.9812e+01 -6.3073e+01  1e+02  4e+00  4e-01\n",
      " 2: -2.1205e+01 -3.2754e+01  2e+01  3e-01  3e-02\n",
      " 3: -2.1835e+01 -2.3432e+01  2e+00  1e-02  1e-03\n",
      " 4: -2.2322e+01 -2.2485e+01  2e-01  7e-04  7e-05\n",
      " 5: -2.2410e+01 -2.2421e+01  1e-02  2e-05  2e-06\n",
      " 6: -2.2417e+01 -2.2417e+01  5e-04  4e-07  4e-08\n",
      " 7: -2.2417e+01 -2.2417e+01  2e-05  5e-09  5e-10\n",
      "Optimal solution found.\n",
      "Error in iteration  2  is =  0.9359891473857378\n",
      "training_data size =  160\n",
      "Validation size =  300\n",
      "testing_data size =  100\n",
      "2.0748337478188548\n",
      "     pcost       dcost       gap    pres   dres\n",
      " 0: -2.8738e+01 -7.7838e+01  4e+02  2e+01  2e+00\n",
      " 1: -3.3952e+01 -7.3167e+01  1e+02  4e+00  4e-01\n",
      " 2: -2.4073e+01 -3.7525e+01  2e+01  5e-01  4e-02\n",
      " 3: -2.3749e+01 -2.6070e+01  2e+00  1e-02  1e-03\n",
      " 4: -2.4385e+01 -2.4637e+01  3e-01  9e-04  8e-05\n",
      " 5: -2.4516e+01 -2.4536e+01  2e-02  4e-05  3e-06\n",
      " 6: -2.4529e+01 -2.4530e+01  9e-04  7e-07  6e-08\n",
      " 7: -2.4530e+01 -2.4530e+01  3e-05  8e-09  7e-10\n",
      " 8: -2.4530e+01 -2.4530e+01  4e-07  8e-11  7e-12\n",
      "Optimal solution found.\n",
      "Error in iteration  2  is =  0.9304052948608025\n",
      "training_data size =  180\n",
      "Validation size =  300\n",
      "testing_data size =  100\n",
      "2.3826433786943535\n",
      "     pcost       dcost       gap    pres   dres\n",
      " 0: -3.2527e+01 -8.7927e+01  5e+02  2e+01  2e+00\n",
      " 1: -3.8232e+01 -8.4795e+01  1e+02  5e+00  4e-01\n",
      " 2: -2.8458e+01 -4.3839e+01  3e+01  5e-01  4e-02\n",
      " 3: -2.8101e+01 -3.0574e+01  3e+00  1e-02  1e-03\n",
      " 4: -2.8766e+01 -2.9021e+01  3e-01  8e-04  7e-05\n",
      " 5: -2.8895e+01 -2.8916e+01  2e-02  3e-05  2e-06\n",
      " 6: -2.8909e+01 -2.8910e+01  1e-03  5e-07  4e-08\n",
      " 7: -2.8909e+01 -2.8909e+01  6e-05  5e-09  4e-10\n",
      " 8: -2.8909e+01 -2.8909e+01  3e-06  6e-11  5e-12\n",
      "Optimal solution found.\n",
      "Error in iteration  2  is =  0.9304052948608025\n",
      "training_data size =  200\n",
      "Validation size =  300\n",
      "testing_data size =  100\n",
      "2.3082294732072706\n",
      "     pcost       dcost       gap    pres   dres\n",
      " 0: -3.4685e+01 -9.4220e+01  6e+02  2e+01  2e+00\n",
      " 1: -4.0954e+01 -8.9097e+01  1e+02  5e+00  4e-01\n",
      " 2: -3.0779e+01 -4.6168e+01  3e+01  6e-01  5e-02\n",
      " 3: -2.9383e+01 -3.2313e+01  3e+00  2e-02  1e-03\n",
      " 4: -3.0117e+01 -3.0431e+01  3e-01  1e-03  9e-05\n",
      " 5: -3.0276e+01 -3.0300e+01  2e-02  4e-05  3e-06\n",
      " 6: -3.0292e+01 -3.0293e+01  1e-03  7e-07  6e-08\n",
      " 7: -3.0293e+01 -3.0293e+01  3e-05  8e-09  6e-10\n",
      " 8: -3.0293e+01 -3.0293e+01  4e-07  8e-11  6e-12\n",
      "Optimal solution found.\n",
      "Error in iteration  2  is =  0.9304052948608025\n",
      "training_data size =  220\n",
      "Validation size =  300\n",
      "testing_data size =  100\n",
      "2.3791650884457036\n",
      "     pcost       dcost       gap    pres   dres\n",
      " 0: -3.7424e+01 -1.0182e+02  6e+02  2e+01  2e+00\n",
      " 1: -4.4128e+01 -9.6373e+01  2e+02  5e+00  4e-01\n",
      " 2: -3.2947e+01 -4.9427e+01  3e+01  7e-01  6e-02\n",
      " 3: -3.0807e+01 -3.4275e+01  4e+00  2e-02  1e-03\n",
      " 4: -3.1687e+01 -3.2082e+01  4e-01  1e-03  1e-04\n",
      " 5: -3.1887e+01 -3.1919e+01  3e-02  5e-05  4e-06\n",
      " 6: -3.1908e+01 -3.1910e+01  1e-03  1e-06  7e-08\n",
      " 7: -3.1909e+01 -3.1909e+01  5e-05  1e-08  9e-10\n",
      " 8: -3.1909e+01 -3.1909e+01  3e-06  1e-10  9e-12\n",
      "Optimal solution found.\n",
      "Error in iteration  2  is =  0.9265764738151624\n",
      "training_data size =  240\n",
      "Validation size =  300\n",
      "testing_data size =  100\n",
      "2.181681332729446\n",
      "     pcost       dcost       gap    pres   dres\n",
      " 0: -4.0002e+01 -1.0901e+02  7e+02  2e+01  2e+00\n",
      " 1: -4.7138e+01 -1.0259e+02  2e+02  5e+00  4e-01\n",
      " 2: -3.4978e+01 -5.2263e+01  4e+01  8e-01  6e-02\n",
      " 3: -3.2602e+01 -3.6391e+01  4e+00  2e-02  1e-03\n",
      " 4: -3.3559e+01 -3.4005e+01  5e-01  1e-03  1e-04\n",
      " 5: -3.3786e+01 -3.3823e+01  4e-02  6e-05  4e-06\n",
      " 6: -3.3811e+01 -3.3812e+01  2e-03  1e-06  8e-08\n",
      " 7: -3.3812e+01 -3.3812e+01  5e-05  1e-08  9e-10\n",
      " 8: -3.3812e+01 -3.3812e+01  8e-07  1e-10  9e-12\n",
      "Optimal solution found.\n",
      "Error in iteration  2  is =  0.9265764738151624\n",
      "training_data size =  260\n",
      "Validation size =  300\n",
      "testing_data size =  100\n",
      "2.211263075605119\n",
      "     pcost       dcost       gap    pres   dres\n",
      " 0: -4.3093e+01 -1.1745e+02  7e+02  3e+01  2e+00\n",
      " 1: -5.0785e+01 -1.1169e+02  2e+02  5e+00  4e-01\n",
      " 2: -3.7924e+01 -5.6273e+01  4e+01  9e-01  7e-02\n",
      " 3: -3.3915e+01 -3.8559e+01  5e+00  2e-02  2e-03\n",
      " 4: -3.4988e+01 -3.5552e+01  6e-01  2e-03  1e-04\n",
      " 5: -3.5259e+01 -3.5311e+01  5e-02  9e-05  6e-06\n",
      " 6: -3.5291e+01 -3.5294e+01  3e-03  2e-06  1e-07\n",
      " 7: -3.5293e+01 -3.5293e+01  1e-04  3e-08  2e-09\n",
      " 8: -3.5293e+01 -3.5293e+01  9e-06  3e-10  2e-11\n",
      "Optimal solution found.\n",
      "Error in iteration  2  is =  0.9245937272402925\n",
      "training_data size =  280\n",
      "Validation size =  300\n",
      "testing_data size =  100\n",
      "2.284053692138756\n",
      "     pcost       dcost       gap    pres   dres\n",
      " 0: -4.6130e+01 -1.2599e+02  8e+02  3e+01  2e+00\n",
      " 1: -5.4136e+01 -1.2024e+02  2e+02  6e+00  4e-01\n",
      " 2: -4.0327e+01 -6.0032e+01  5e+01  1e+00  7e-02\n",
      " 3: -3.5948e+01 -4.1010e+01  6e+00  2e-02  1e-03\n",
      " 4: -3.7160e+01 -3.7793e+01  7e-01  2e-03  1e-04\n",
      " 5: -3.7468e+01 -3.7526e+01  6e-02  9e-05  6e-06\n",
      " 6: -3.7505e+01 -3.7508e+01  3e-03  2e-06  1e-07\n",
      " 7: -3.7507e+01 -3.7507e+01  2e-04  3e-08  2e-09\n",
      " 8: -3.7507e+01 -3.7507e+01  1e-05  4e-10  2e-11\n",
      "Optimal solution found.\n",
      "Error in iteration  2  is =  0.9245937272402925\n",
      "training_data size =  300\n",
      "Validation size =  300\n",
      "testing_data size =  100\n",
      "2.56017465245931\n",
      "     pcost       dcost       gap    pres   dres\n",
      " 0: -4.8355e+01 -1.3245e+02  9e+02  3e+01  2e+00\n",
      " 1: -5.6226e+01 -1.2641e+02  2e+02  6e+00  4e-01\n",
      " 2: -4.1319e+01 -6.2554e+01  5e+01  1e+00  6e-02\n",
      " 3: -3.7525e+01 -4.2803e+01  6e+00  2e-02  1e-03\n",
      " 4: -3.8819e+01 -3.9499e+01  7e-01  2e-03  1e-04\n",
      " 5: -3.9152e+01 -3.9215e+01  6e-02  9e-05  6e-06\n",
      " 6: -3.9192e+01 -3.9196e+01  3e-03  2e-06  1e-07\n",
      " 7: -3.9195e+01 -3.9195e+01  2e-04  3e-08  2e-09\n",
      " 8: -3.9195e+01 -3.9195e+01  1e-05  4e-10  2e-11\n",
      "Optimal solution found.\n",
      "Error in iteration  2  is =  0.9245937272402925\n",
      "training_data size =  320\n",
      "Validation size =  300\n",
      "testing_data size =  100\n"
     ]
    },
    {
     "ename": "KeyboardInterrupt",
     "evalue": "",
     "output_type": "error",
     "traceback": [
      "\u001b[1;31m---------------------------------------------------------------------------\u001b[0m",
      "\u001b[1;31mKeyboardInterrupt\u001b[0m                         Traceback (most recent call last)",
      "\u001b[1;32m~\\AppData\\Local\\Temp/ipykernel_11024/1997445991.py\u001b[0m in \u001b[0;36m<module>\u001b[1;34m\u001b[0m\n\u001b[0;32m     36\u001b[0m         \u001b[0mtraining_data\u001b[0m\u001b[1;33m,\u001b[0m \u001b[0mvalidation_data\u001b[0m\u001b[1;33m,\u001b[0m \u001b[0mtesting_data\u001b[0m\u001b[1;33m,\u001b[0m \u001b[0my_train\u001b[0m\u001b[1;33m,\u001b[0m \u001b[0my_validation\u001b[0m\u001b[1;33m,\u001b[0m \u001b[0my_test\u001b[0m \u001b[1;33m=\u001b[0m \u001b[0mget_test_train_validation\u001b[0m\u001b[1;33m(\u001b[0m\u001b[0msubjects\u001b[0m\u001b[1;33m,\u001b[0m \u001b[0mtypes\u001b[0m\u001b[1;33m,\u001b[0m \u001b[0mprojected\u001b[0m\u001b[1;33m,\u001b[0m \u001b[0mtraining_size_weak\u001b[0m\u001b[1;33m,\u001b[0m \u001b[0mtesting_size\u001b[0m\u001b[1;33m)\u001b[0m\u001b[1;33m\u001b[0m\u001b[1;33m\u001b[0m\u001b[0m\n\u001b[0;32m     37\u001b[0m \u001b[1;33m\u001b[0m\u001b[0m\n\u001b[1;32m---> 38\u001b[1;33m         \u001b[0mkernel\u001b[0m \u001b[1;33m=\u001b[0m \u001b[0mget_kernel\u001b[0m\u001b[1;33m(\u001b[0m\u001b[0mtraining_data\u001b[0m\u001b[1;33m,\u001b[0m \u001b[0mkernel_type\u001b[0m\u001b[1;33m=\u001b[0m\u001b[0mkernel_type\u001b[0m\u001b[1;33m)\u001b[0m\u001b[1;33m\u001b[0m\u001b[1;33m\u001b[0m\u001b[0m\n\u001b[0m\u001b[0;32m     39\u001b[0m \u001b[1;33m\u001b[0m\u001b[0m\n\u001b[0;32m     40\u001b[0m         \u001b[1;31m# find the multiplers\u001b[0m\u001b[1;33m\u001b[0m\u001b[1;33m\u001b[0m\u001b[1;33m\u001b[0m\u001b[0m\n",
      "\u001b[1;32m~\\AppData\\Local\\Temp/ipykernel_11024/2556259774.py\u001b[0m in \u001b[0;36mget_kernel\u001b[1;34m(x, kernel_type, param)\u001b[0m\n\u001b[0;32m     12\u001b[0m \u001b[1;33m\u001b[0m\u001b[0m\n\u001b[0;32m     13\u001b[0m     \u001b[1;32mwhile\u001b[0m \u001b[0mabs\u001b[0m\u001b[1;33m(\u001b[0m\u001b[0mnp\u001b[0m\u001b[1;33m.\u001b[0m\u001b[0mlinalg\u001b[0m\u001b[1;33m.\u001b[0m\u001b[0mdet\u001b[0m\u001b[1;33m(\u001b[0m\u001b[0mkernel\u001b[0m\u001b[1;33m)\u001b[0m\u001b[1;33m)\u001b[0m \u001b[1;33m<=\u001b[0m \u001b[1;36m2\u001b[0m\u001b[1;33m:\u001b[0m\u001b[1;33m\u001b[0m\u001b[1;33m\u001b[0m\u001b[0m\n\u001b[1;32m---> 14\u001b[1;33m         \u001b[0mkernel\u001b[0m \u001b[1;33m=\u001b[0m \u001b[0mkernel\u001b[0m \u001b[1;33m+\u001b[0m \u001b[1;36m0.001\u001b[0m\u001b[1;33m*\u001b[0m\u001b[0mnp\u001b[0m\u001b[1;33m.\u001b[0m\u001b[0midentity\u001b[0m\u001b[1;33m(\u001b[0m\u001b[0mkernel\u001b[0m\u001b[1;33m.\u001b[0m\u001b[0mshape\u001b[0m\u001b[1;33m[\u001b[0m\u001b[1;36m0\u001b[0m\u001b[1;33m]\u001b[0m\u001b[1;33m)\u001b[0m\u001b[1;33m\u001b[0m\u001b[1;33m\u001b[0m\u001b[0m\n\u001b[0m\u001b[0;32m     15\u001b[0m     \u001b[0mprint\u001b[0m\u001b[1;33m(\u001b[0m\u001b[0mnp\u001b[0m\u001b[1;33m.\u001b[0m\u001b[0mlinalg\u001b[0m\u001b[1;33m.\u001b[0m\u001b[0mdet\u001b[0m\u001b[1;33m(\u001b[0m\u001b[0mkernel\u001b[0m\u001b[1;33m)\u001b[0m\u001b[1;33m)\u001b[0m\u001b[1;33m\u001b[0m\u001b[1;33m\u001b[0m\u001b[0m\n\u001b[0;32m     16\u001b[0m \u001b[1;33m\u001b[0m\u001b[0m\n",
      "\u001b[1;32m~\\AppData\\Local\\Programs\\Python\\Python39\\lib\\site-packages\\numpy\\core\\numeric.py\u001b[0m in \u001b[0;36midentity\u001b[1;34m(n, dtype, like)\u001b[0m\n\u001b[0;32m   2165\u001b[0m \u001b[1;33m\u001b[0m\u001b[0m\n\u001b[0;32m   2166\u001b[0m     \u001b[1;32mfrom\u001b[0m \u001b[0mnumpy\u001b[0m \u001b[1;32mimport\u001b[0m \u001b[0meye\u001b[0m\u001b[1;33m\u001b[0m\u001b[1;33m\u001b[0m\u001b[0m\n\u001b[1;32m-> 2167\u001b[1;33m     \u001b[1;32mreturn\u001b[0m \u001b[0meye\u001b[0m\u001b[1;33m(\u001b[0m\u001b[0mn\u001b[0m\u001b[1;33m,\u001b[0m \u001b[0mdtype\u001b[0m\u001b[1;33m=\u001b[0m\u001b[0mdtype\u001b[0m\u001b[1;33m,\u001b[0m \u001b[0mlike\u001b[0m\u001b[1;33m=\u001b[0m\u001b[0mlike\u001b[0m\u001b[1;33m)\u001b[0m\u001b[1;33m\u001b[0m\u001b[1;33m\u001b[0m\u001b[0m\n\u001b[0m\u001b[0;32m   2168\u001b[0m \u001b[1;33m\u001b[0m\u001b[0m\n\u001b[0;32m   2169\u001b[0m \u001b[1;33m\u001b[0m\u001b[0m\n",
      "\u001b[1;32m~\\AppData\\Local\\Programs\\Python\\Python39\\lib\\site-packages\\numpy\\lib\\twodim_base.py\u001b[0m in \u001b[0;36meye\u001b[1;34m(N, M, k, dtype, order, like)\u001b[0m\n\u001b[0;32m    212\u001b[0m     \u001b[1;32mif\u001b[0m \u001b[0mM\u001b[0m \u001b[1;32mis\u001b[0m \u001b[1;32mNone\u001b[0m\u001b[1;33m:\u001b[0m\u001b[1;33m\u001b[0m\u001b[1;33m\u001b[0m\u001b[0m\n\u001b[0;32m    213\u001b[0m         \u001b[0mM\u001b[0m \u001b[1;33m=\u001b[0m \u001b[0mN\u001b[0m\u001b[1;33m\u001b[0m\u001b[1;33m\u001b[0m\u001b[0m\n\u001b[1;32m--> 214\u001b[1;33m     \u001b[0mm\u001b[0m \u001b[1;33m=\u001b[0m \u001b[0mzeros\u001b[0m\u001b[1;33m(\u001b[0m\u001b[1;33m(\u001b[0m\u001b[0mN\u001b[0m\u001b[1;33m,\u001b[0m \u001b[0mM\u001b[0m\u001b[1;33m)\u001b[0m\u001b[1;33m,\u001b[0m \u001b[0mdtype\u001b[0m\u001b[1;33m=\u001b[0m\u001b[0mdtype\u001b[0m\u001b[1;33m,\u001b[0m \u001b[0morder\u001b[0m\u001b[1;33m=\u001b[0m\u001b[0morder\u001b[0m\u001b[1;33m)\u001b[0m\u001b[1;33m\u001b[0m\u001b[1;33m\u001b[0m\u001b[0m\n\u001b[0m\u001b[0;32m    215\u001b[0m     \u001b[1;32mif\u001b[0m \u001b[0mk\u001b[0m \u001b[1;33m>=\u001b[0m \u001b[0mM\u001b[0m\u001b[1;33m:\u001b[0m\u001b[1;33m\u001b[0m\u001b[1;33m\u001b[0m\u001b[0m\n\u001b[0;32m    216\u001b[0m         \u001b[1;32mreturn\u001b[0m \u001b[0mm\u001b[0m\u001b[1;33m\u001b[0m\u001b[1;33m\u001b[0m\u001b[0m\n",
      "\u001b[1;31mKeyboardInterrupt\u001b[0m: "
     ]
    }
   ],
   "source": [
    "from tqdm import tqdm\n",
    "iterations = 5\n",
    "training_size = 300\n",
    "testing_size = 100\n",
    "\n",
    "# weight vector\n",
    "w = np.zeros(shape=(iterations, training_size))\n",
    "P = np.zeros(shape=(iterations, training_size))\n",
    "a = np.zeros(shape=(iterations))\n",
    "test = np.zeros(shape=training_size)\n",
    "w[0] = 1/training_size*np.ones(training_size)\n",
    "theta0 = np.zeros(shape=(iterations))\n",
    "theta = np.zeros(shape=(iterations, training_data.shape[1])) \n",
    "\n",
    "for k in range(iterations-1):\n",
    "\n",
    "    threshold = 1e-5\n",
    "    kernel_type = 'linear'\n",
    "\n",
    "    # calculate P for each sample\n",
    "    for i in range(training_size-1):\n",
    "        P[k][i] = w[k][i] / (np.sum(w[k]))\n",
    "\n",
    "    # training size for weak classifier\n",
    "    training_size_weak = 100\n",
    "    # testing size\n",
    "    testing_size = 100\n",
    "    error = 0.0\n",
    "\n",
    "    while(True):\n",
    "\n",
    "        ei = np.zeros(shape=(training_size))\n",
    "\n",
    "        training_size_weak += 20\n",
    "        # get the test, train, validation data\n",
    "        training_data, validation_data, testing_data, y_train, y_validation, y_test = get_test_train_validation(subjects, types, projected, training_size_weak, testing_size)\n",
    "\n",
    "        kernel = get_kernel(training_data, kernel_type=kernel_type)\n",
    "\n",
    "        # find the multiplers\n",
    "        sv = get_support_vector_multipler(kernel, training_data, training_size_weak, y_train)\n",
    "\n",
    "        # hyperplane\n",
    "        theta[k] = np.dot((sv*y_train).T, training_data)\n",
    "\n",
    "        # Find the intercept\n",
    "        idx = np.argsort(sv)\n",
    "        idx = idx[::-1][0]\n",
    "\n",
    "        theta0[k] = 1/y_train[idx] - np.dot(theta[k].T, training_data[idx])\n",
    "\n",
    "        # cross-validation\n",
    "        error = 0.0\n",
    "        for i in range(len(validation_data)):\n",
    "            test[i] = np.dot(theta[k].T, validation_data[i]) + theta0[k]\n",
    "\n",
    "            if (test[i]*y_validation[i] < 0):\n",
    "                error += P[k][i]\n",
    "        \n",
    "        print('Error in iteration ', str(k+1), ' is = ', str(error))\n",
    "\n",
    "        if error < 0.6:\n",
    "            break\n",
    "    \n",
    "    # update the coefficient\n",
    "    if error != 0:\n",
    "        a[k] = 0.5*math.log((1-error)/error)\n",
    "\n",
    "    # update next weights\n",
    "\n",
    "    for i in range(training_size):\n",
    "        w[k+1][i] = w[k][i] * math.exp( (-1*y_validation[i]*test[i]) )\n",
    "    \n",
    "    "
   ]
  },
  {
   "cell_type": "code",
   "execution_count": 233,
   "metadata": {},
   "outputs": [],
   "source": [
    "score = 0\n",
    "for i in range(len(validation_data)):\n",
    "    test = 0\n",
    "    for k in range(iterations):\n",
    "        test += a[k] * np.dot(theta[k].T, validation_data[i]) + theta0[k]\n",
    "    if (test*y_validation[i] > 0):\n",
    "        score += 1"
   ]
  },
  {
   "cell_type": "code",
   "execution_count": 234,
   "metadata": {},
   "outputs": [
    {
     "data": {
      "text/plain": [
       "274"
      ]
     },
     "execution_count": 234,
     "metadata": {},
     "output_type": "execute_result"
    }
   ],
   "source": [
    "score"
   ]
  },
  {
   "cell_type": "code",
   "execution_count": 243,
   "metadata": {},
   "outputs": [],
   "source": [
    "score = 0\n",
    "for i in range(len(testing_data)):\n",
    "    test = 0\n",
    "    for k in range(iterations):\n",
    "        test += a[k] * np.dot(theta[k].T, testing_data[i]) + theta0[k]\n",
    "    if (test*y_test[i] > 0):\n",
    "        score += 1"
   ]
  },
  {
   "cell_type": "code",
   "execution_count": 244,
   "metadata": {},
   "outputs": [
    {
     "data": {
      "text/plain": [
       "84"
      ]
     },
     "execution_count": 244,
     "metadata": {},
     "output_type": "execute_result"
    }
   ],
   "source": [
    "score"
   ]
  },
  {
   "cell_type": "code",
   "execution_count": null,
   "metadata": {},
   "outputs": [],
   "source": []
  },
  {
   "cell_type": "markdown",
   "metadata": {},
   "source": [
    "# Check LDA"
   ]
  },
  {
   "cell_type": "code",
   "execution_count": 484,
   "metadata": {},
   "outputs": [],
   "source": [
    "neutral = np.zeros(shape=(subjects, flattened.shape[1]))\n",
    "expression = np.zeros(shape=(subjects, flattened.shape[1]))\n",
    "\n",
    "c = 0\n",
    "for i in range(0, subjects*types, 2):\n",
    "    neutral[c] = flattened[i]\n",
    "    expression[c] = flattened[i+1]\n",
    "    c+=1\n",
    "mu_neutral = np.mean(neutral, axis=0)\n",
    "mu_expression = np.mean(expression, axis=0)\n",
    "\n",
    "mat = neutral - mu_neutral\n",
    "cov_neutral = np.dot(mat.T, mat) / subjects\n",
    "mat = expression - mu_neutral\n",
    "cov_expression = np.dot(mat.T, mat) / subjects\n",
    "mat = (mu_neutral - mu_expression).reshape((1, flattened.shape[1]))\n",
    "sigma_b = np.dot(mat.T, mat)\n",
    "sigma_w = cov_neutral + cov_neutral"
   ]
  },
  {
   "cell_type": "code",
   "execution_count": 485,
   "metadata": {},
   "outputs": [
    {
     "name": "stdout",
     "output_type": "stream",
     "text": [
      "6.937939257947475\n",
      "5.39901519806892\n"
     ]
    }
   ],
   "source": [
    "# while abs(np.linalg.det(sigma_b)) <= 2:\n",
    "sigma_b = sigma_b + 0.999*np.identity(sigma_b.shape[0])\n",
    "print(np.linalg.det(sigma_b))\n",
    "\n",
    "# while abs(np.linalg.det(sigma_w)) <= 2:\n",
    "sigma_w = sigma_w + 0.868*np.identity(sigma_w.shape[0])\n",
    "print(np.linalg.det(sigma_w))"
   ]
  },
  {
   "cell_type": "code",
   "execution_count": 491,
   "metadata": {},
   "outputs": [],
   "source": [
    "a = np.dot(np.linalg.inv(sigma_w), sigma_b)"
   ]
  },
  {
   "cell_type": "code",
   "execution_count": 487,
   "metadata": {},
   "outputs": [],
   "source": [
    "val, vec = np.linalg.eig(a)"
   ]
  },
  {
   "cell_type": "code",
   "execution_count": 433,
   "metadata": {},
   "outputs": [],
   "source": [
    "idx = val.argsort()[::-1]\n",
    "vec_  = vec[:, idx]\n",
    "vec_.shape\n",
    "dim = 1\n",
    "vec__ = vec_[:,:dim]\n",
    "vec__.shape\n",
    "f = np.dot(flattened, vec__)"
   ]
  },
  {
   "cell_type": "code",
   "execution_count": 434,
   "metadata": {},
   "outputs": [
    {
     "data": {
      "text/plain": [
       "(400, 1)"
      ]
     },
     "execution_count": 434,
     "metadata": {},
     "output_type": "execute_result"
    }
   ],
   "source": [
    "f.shape"
   ]
  },
  {
   "cell_type": "code",
   "execution_count": 515,
   "metadata": {},
   "outputs": [],
   "source": [
    "# projected_bcp = projected\n",
    "projected  = f"
   ]
  },
  {
   "cell_type": "code",
   "execution_count": 493,
   "metadata": {},
   "outputs": [
    {
     "data": {
      "text/plain": [
       "(504,)"
      ]
     },
     "execution_count": 493,
     "metadata": {},
     "output_type": "execute_result"
    }
   ],
   "source": [
    "mu_neutral.shape"
   ]
  },
  {
   "cell_type": "code",
   "execution_count": 494,
   "metadata": {},
   "outputs": [],
   "source": [
    "check = np.dot(np.linalg.inv(sigma_w), (mu_neutral - mu_expression))"
   ]
  },
  {
   "cell_type": "code",
   "execution_count": 509,
   "metadata": {},
   "outputs": [],
   "source": [
    "check = check.reshape((check.shape[0],1))"
   ]
  },
  {
   "cell_type": "code",
   "execution_count": 498,
   "metadata": {},
   "outputs": [
    {
     "data": {
      "text/plain": [
       "(504, 1)"
      ]
     },
     "execution_count": 498,
     "metadata": {},
     "output_type": "execute_result"
    }
   ],
   "source": [
    "vec__.shape"
   ]
  },
  {
   "cell_type": "code",
   "execution_count": 510,
   "metadata": {},
   "outputs": [],
   "source": [
    "f = np.dot(flattened, check)"
   ]
  },
  {
   "cell_type": "code",
   "execution_count": 511,
   "metadata": {},
   "outputs": [
    {
     "data": {
      "text/plain": [
       "(400, 1)"
      ]
     },
     "execution_count": 511,
     "metadata": {},
     "output_type": "execute_result"
    }
   ],
   "source": [
    "f.shape"
   ]
  },
  {
   "cell_type": "code",
   "execution_count": 512,
   "metadata": {},
   "outputs": [
    {
     "data": {
      "text/plain": [
       "(400, 504)"
      ]
     },
     "execution_count": 512,
     "metadata": {},
     "output_type": "execute_result"
    }
   ],
   "source": [
    "flattened.shape"
   ]
  },
  {
   "cell_type": "code",
   "execution_count": null,
   "metadata": {},
   "outputs": [],
   "source": []
  }
 ],
 "metadata": {
  "interpreter": {
   "hash": "cdfa986811ede5aec55e936b833b50dd727f4374221054198d85d31e15300e88"
  },
  "kernelspec": {
   "display_name": "Python 3.9.6 64-bit",
   "name": "python3"
  },
  "language_info": {
   "codemirror_mode": {
    "name": "ipython",
    "version": 3
   },
   "file_extension": ".py",
   "mimetype": "text/x-python",
   "name": "python",
   "nbconvert_exporter": "python",
   "pygments_lexer": "ipython3",
   "version": "3.9.6"
  },
  "orig_nbformat": 4
 },
 "nbformat": 4,
 "nbformat_minor": 2
}
